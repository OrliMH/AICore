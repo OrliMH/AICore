{
 "cells": [
  {
   "cell_type": "code",
   "execution_count": 2,
   "id": "seasonal-advice",
   "metadata": {},
   "outputs": [
    {
     "data": {
      "text/plain": [
       "11"
      ]
     },
     "execution_count": 2,
     "metadata": {},
     "output_type": "execute_result"
    }
   ],
   "source": [
    "origin_price = [1, 5, 8, 9, 10, 17, 17, 20, 24, 30,33]\n",
    "len(origin_price)"
   ]
  },
  {
   "cell_type": "code",
   "execution_count": 3,
   "id": "gross-equipment",
   "metadata": {},
   "outputs": [],
   "source": [
    "from collections import defaultdict\n",
    "price = defaultdict(int)"
   ]
  },
  {
   "cell_type": "code",
   "execution_count": 4,
   "id": "ceramic-pearl",
   "metadata": {},
   "outputs": [],
   "source": [
    "for i, p in enumerate(origin_price): price[i+1] = p "
   ]
  },
  {
   "cell_type": "code",
   "execution_count": 5,
   "id": "false-kelly",
   "metadata": {},
   "outputs": [],
   "source": [
    "from datetime import datetime\n",
    "import time \n"
   ]
  },
  {
   "cell_type": "code",
   "execution_count": 6,
   "id": "tracked-drink",
   "metadata": {},
   "outputs": [],
   "source": [
    "def func_1(n):\n",
    "    time.sleep(.1)\n",
    "    return n"
   ]
  },
  {
   "cell_type": "code",
   "execution_count": 7,
   "id": "native-world",
   "metadata": {},
   "outputs": [
    {
     "data": {
      "text/plain": [
       "9"
      ]
     },
     "execution_count": 7,
     "metadata": {},
     "output_type": "execute_result"
    }
   ],
   "source": [
    "func_1(9)"
   ]
  },
  {
   "cell_type": "code",
   "execution_count": 8,
   "id": "contrary-level",
   "metadata": {},
   "outputs": [],
   "source": [
    "def func_2(n):\n",
    "    sum_ = 0\n",
    "    for i in range(n*n):\n",
    "        sum_ += 1\n",
    "    return n "
   ]
  },
  {
   "cell_type": "code",
   "execution_count": 9,
   "id": "involved-gender",
   "metadata": {},
   "outputs": [],
   "source": [
    "def get_func_time(func):\n",
    "    def _wrap(n):\n",
    "        begin = datetime.now()\n",
    "        result = func(n)\n",
    "        print(\"Used time = {}\".format(datetime.now()-begin))\n",
    "        return result\n",
    "    return _wrap"
   ]
  },
  {
   "cell_type": "code",
   "execution_count": 10,
   "id": "governing-musician",
   "metadata": {},
   "outputs": [],
   "source": [
    "func_1_with_time = get_func_time(func_1)"
   ]
  },
  {
   "cell_type": "code",
   "execution_count": 11,
   "id": "printable-exclusive",
   "metadata": {},
   "outputs": [],
   "source": [
    "def memo(func):\n",
    "    cache = {}\n",
    "    def _wrap(n):\n",
    "        if n in cache: result = cache[n]\n",
    "        else:\n",
    "            result = func(n)\n",
    "            cache[n] = result\n",
    "        return result\n",
    "    return _wrap"
   ]
  },
  {
   "cell_type": "code",
   "execution_count": 12,
   "id": "through-nomination",
   "metadata": {},
   "outputs": [],
   "source": [
    "func_2_with_time = get_func_time(func_2)"
   ]
  },
  {
   "cell_type": "code",
   "execution_count": 13,
   "id": "median-aerospace",
   "metadata": {},
   "outputs": [
    {
     "name": "stdout",
     "output_type": "stream",
     "text": [
      "Used time = 0:00:00.110572\n"
     ]
    },
    {
     "data": {
      "text/plain": [
       "9"
      ]
     },
     "execution_count": 13,
     "metadata": {},
     "output_type": "execute_result"
    }
   ],
   "source": [
    "func_1_with_time(9)"
   ]
  },
  {
   "cell_type": "code",
   "execution_count": 15,
   "id": "decent-diabetes",
   "metadata": {},
   "outputs": [
    {
     "name": "stdout",
     "output_type": "stream",
     "text": [
      "Used time = 0:00:00\n"
     ]
    },
    {
     "data": {
      "text/plain": [
       "9"
      ]
     },
     "execution_count": 15,
     "metadata": {},
     "output_type": "execute_result"
    }
   ],
   "source": [
    "func_2_with_time(9)"
   ]
  },
  {
   "cell_type": "code",
   "execution_count": 18,
   "id": "accepting-evening",
   "metadata": {},
   "outputs": [],
   "source": [
    "solution = {}\n",
    "def r(n):\n",
    "    max_price, split_point = max([(price[n], 0)] + [(r(i)+r(n-i),i) for i in range(1, n)], key = lambda x: x[0])\n",
    "    global solution\n",
    "    solution[n] = (split_point, n-split_point)\n",
    "    return max_price"
   ]
  },
  {
   "cell_type": "code",
   "execution_count": 19,
   "id": "integral-knight",
   "metadata": {},
   "outputs": [
    {
     "name": "stdout",
     "output_type": "stream",
     "text": [
      "Wall time: 500 ms\n"
     ]
    },
    {
     "data": {
      "text/plain": [
       "35"
      ]
     },
     "execution_count": 19,
     "metadata": {},
     "output_type": "execute_result"
    }
   ],
   "source": [
    "%%time\n",
    "r(12)"
   ]
  },
  {
   "cell_type": "code",
   "execution_count": 20,
   "id": "national-postcard",
   "metadata": {},
   "outputs": [
    {
     "name": "stdout",
     "output_type": "stream",
     "text": [
      "Wall time: 13.6 s\n"
     ]
    },
    {
     "data": {
      "text/plain": [
       "43"
      ]
     },
     "execution_count": 20,
     "metadata": {},
     "output_type": "execute_result"
    }
   ],
   "source": [
    "%%time \n",
    "r(15)"
   ]
  },
  {
   "cell_type": "code",
   "execution_count": 22,
   "id": "iraqi-minister",
   "metadata": {},
   "outputs": [],
   "source": [
    "def not_cut(n):return n==0\n"
   ]
  },
  {
   "cell_type": "code",
   "execution_count": 23,
   "id": "medical-registration",
   "metadata": {},
   "outputs": [],
   "source": [
    "def parse_solution(target_length, revenue_solution):\n",
    "    left, right = revenue_solution[target_length]\n",
    "    if not_cut(left):return [right]\n",
    "    return parse_solution(right, revenue_solution)"
   ]
  },
  {
   "cell_type": "code",
   "execution_count": 26,
   "id": "neutral-minnesota",
   "metadata": {},
   "outputs": [
    {
     "data": {
      "text/plain": [
       "43"
      ]
     },
     "execution_count": 26,
     "metadata": {},
     "output_type": "execute_result"
    }
   ],
   "source": [
    "r(15)"
   ]
  },
  {
   "cell_type": "code",
   "execution_count": 27,
   "id": "thorough-christmas",
   "metadata": {},
   "outputs": [
    {
     "data": {
      "text/plain": [
       "[11]"
      ]
     },
     "execution_count": 27,
     "metadata": {},
     "output_type": "execute_result"
    }
   ],
   "source": [
    "parse_solution(15, solution)"
   ]
  }
 ],
 "metadata": {
  "kernelspec": {
   "display_name": "Python 3",
   "language": "python",
   "name": "python3"
  },
  "language_info": {
   "codemirror_mode": {
    "name": "ipython",
    "version": 3
   },
   "file_extension": ".py",
   "mimetype": "text/x-python",
   "name": "python",
   "nbconvert_exporter": "python",
   "pygments_lexer": "ipython3",
   "version": "3.7.6"
  }
 },
 "nbformat": 4,
 "nbformat_minor": 5
}
