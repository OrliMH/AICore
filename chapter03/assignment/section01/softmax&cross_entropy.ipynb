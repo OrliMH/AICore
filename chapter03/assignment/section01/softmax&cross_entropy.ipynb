{
 "cells": [
  {
   "cell_type": "code",
   "execution_count": 42,
   "metadata": {},
   "outputs": [
    {
     "data": {
      "text/plain": [
       "<traitlets.traitlets.Enum at 0x7fc979a51850>"
      ]
     },
     "execution_count": 42,
     "metadata": {},
     "output_type": "execute_result"
    }
   ],
   "source": [
    "from IPython.core.interactiveshell import InteractiveShell\n",
    "InteractiveShell.ast_node_interactivity"
   ]
  },
  {
   "cell_type": "code",
   "execution_count": 43,
   "metadata": {},
   "outputs": [],
   "source": [
    "from icecream import ic"
   ]
  },
  {
   "cell_type": "code",
   "execution_count": 44,
   "metadata": {},
   "outputs": [],
   "source": [
    "person1 = [85,34,123,54]"
   ]
  },
  {
   "cell_type": "code",
   "execution_count": 45,
   "metadata": {},
   "outputs": [],
   "source": [
    "mood = ['happy','sad','peace','amazed']"
   ]
  },
  {
   "cell_type": "code",
   "execution_count": 46,
   "metadata": {},
   "outputs": [],
   "source": [
    "import numpy as np"
   ]
  },
  {
   "cell_type": "code",
   "execution_count": 47,
   "metadata": {},
   "outputs": [
    {
     "name": "stderr",
     "output_type": "stream",
     "text": [
      "ic| w: array([[ 1.8296597 , -0.19390443,  1.72973537,  0.03256374,  1.05268859],\n",
      "              [ 3.12170242, -0.88979672, -0.95542295, -1.28200127, -0.34318877],\n",
      "              [ 1.06562649,  0.63735527, -1.35065266, -1.32702311, -1.11605897],\n",
      "              [-1.25801853,  0.02546081, -0.65251171, -1.34217111,  0.85375435]])\n"
     ]
    },
    {
     "data": {
      "text/plain": [
       "array([[ 1.8296597 , -0.19390443,  1.72973537,  0.03256374,  1.05268859],\n",
       "       [ 3.12170242, -0.88979672, -0.95542295, -1.28200127, -0.34318877],\n",
       "       [ 1.06562649,  0.63735527, -1.35065266, -1.32702311, -1.11605897],\n",
       "       [-1.25801853,  0.02546081, -0.65251171, -1.34217111,  0.85375435]])"
      ]
     },
     "execution_count": 47,
     "metadata": {},
     "output_type": "execute_result"
    }
   ],
   "source": [
    "w = np.random.randn(4, 5)\n",
    "ic(w)"
   ]
  },
  {
   "cell_type": "code",
   "execution_count": 48,
   "metadata": {},
   "outputs": [
    {
     "name": "stderr",
     "output_type": "stream",
     "text": [
      "ic| b: 0.805560735013279\n"
     ]
    },
    {
     "data": {
      "text/plain": [
       "0.805560735013279"
      ]
     },
     "execution_count": 48,
     "metadata": {},
     "output_type": "execute_result"
    }
   ],
   "source": [
    "b = np.random.random()\n",
    "ic(b)"
   ]
  },
  {
   "cell_type": "code",
   "execution_count": 49,
   "metadata": {},
   "outputs": [
    {
     "name": "stderr",
     "output_type": "stream",
     "text": [
      "ic| logits: array([ 325.60357528,   33.84017693,  -86.01722275, -275.71564668,\n",
      "                    -12.55684495])\n"
     ]
    },
    {
     "data": {
      "text/plain": [
       "array([ 325.60357528,   33.84017693,  -86.01722275, -275.71564668,\n",
       "        -12.55684495])"
      ]
     },
     "execution_count": 49,
     "metadata": {},
     "output_type": "execute_result"
    }
   ],
   "source": [
    "logits = np.dot(person1, w) + b\n",
    "ic(logits)"
   ]
  },
  {
   "cell_type": "code",
   "execution_count": 50,
   "metadata": {},
   "outputs": [],
   "source": [
    "def softmax(x):\n",
    "    x -= np.max(x)\n",
    "    return np.exp(x)/np.sum(np.exp(x))"
   ]
  },
  {
   "cell_type": "code",
   "execution_count": 51,
   "metadata": {},
   "outputs": [
    {
     "name": "stderr",
     "output_type": "stream",
     "text": [
      "ic| predicted1: array([1.00000000e+000, 1.94431252e-127, 1.71932816e-179, 7.08565562e-262,\n",
      "                       1.37656110e-147])\n"
     ]
    },
    {
     "data": {
      "text/plain": [
       "array([1.00000000e+000, 1.94431252e-127, 1.71932816e-179, 7.08565562e-262,\n",
       "       1.37656110e-147])"
      ]
     },
     "execution_count": 51,
     "metadata": {},
     "output_type": "execute_result"
    }
   ],
   "source": [
    "predicted1 = softmax(logits)\n",
    "ic(predicted1)"
   ]
  },
  {
   "cell_type": "code",
   "execution_count": 52,
   "metadata": {},
   "outputs": [],
   "source": [
    "label1 = [0, 1, 0, 0]"
   ]
  },
  {
   "cell_type": "code",
   "execution_count": 53,
   "metadata": {},
   "outputs": [],
   "source": [
    "another_predicted1 = [.1, .8, .05, .05]"
   ]
  },
  {
   "cell_type": "code",
   "execution_count": 54,
   "metadata": {},
   "outputs": [],
   "source": [
    "def cross_entropy(label, predicted):\n",
    "    return -sum(label[i]*np.log(predicted[i]) for i in range(len(label)))"
   ]
  },
  {
   "cell_type": "code",
   "execution_count": 55,
   "metadata": {},
   "outputs": [
    {
     "data": {
      "text/plain": [
       "291.76339835660707"
      ]
     },
     "execution_count": 55,
     "metadata": {},
     "output_type": "execute_result"
    }
   ],
   "source": [
    "cross_entropy(label1, predicted1)"
   ]
  },
  {
   "cell_type": "code",
   "execution_count": 56,
   "metadata": {},
   "outputs": [
    {
     "data": {
      "text/plain": [
       "0.2231435513142097"
      ]
     },
     "execution_count": 56,
     "metadata": {},
     "output_type": "execute_result"
    }
   ],
   "source": [
    "cross_entropy(label1, another_predicted1)"
   ]
  },
  {
   "cell_type": "code",
   "execution_count": null,
   "metadata": {},
   "outputs": [],
   "source": []
  },
  {
   "cell_type": "code",
   "execution_count": null,
   "metadata": {},
   "outputs": [],
   "source": []
  }
 ],
 "metadata": {
  "kernelspec": {
   "display_name": "Python 3",
   "language": "python",
   "name": "python3"
  },
  "language_info": {
   "codemirror_mode": {
    "name": "ipython",
    "version": 3
   },
   "file_extension": ".py",
   "mimetype": "text/x-python",
   "name": "python",
   "nbconvert_exporter": "python",
   "pygments_lexer": "ipython3",
   "version": "3.7.6"
  }
 },
 "nbformat": 4,
 "nbformat_minor": 4
}
