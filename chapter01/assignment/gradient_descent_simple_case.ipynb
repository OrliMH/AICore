{
 "cells": [
  {
   "cell_type": "code",
   "execution_count": 23,
   "id": "substantial-mirror",
   "metadata": {},
   "outputs": [],
   "source": [
    "from IPython.core.interactiveshell import InteractiveShell\n",
    "InteractiveShell.ast_node_interactivity=\"all\""
   ]
  },
  {
   "cell_type": "code",
   "execution_count": 24,
   "id": "sharing-softball",
   "metadata": {},
   "outputs": [],
   "source": [
    "import numpy as np\n",
    "import matplotlib.pyplot as plt\n",
    "import random \n",
    "from icecream import ic"
   ]
  },
  {
   "cell_type": "code",
   "execution_count": 37,
   "id": "knowing-technician",
   "metadata": {},
   "outputs": [],
   "source": [
    "def func(x):\n",
    "    return 10*x**2 +32*x +9\n"
   ]
  },
  {
   "cell_type": "code",
   "execution_count": 38,
   "id": "breeding-government",
   "metadata": {},
   "outputs": [],
   "source": [
    "def gradient(x):\n",
    "    return 10*2*x+32\n"
   ]
  },
  {
   "cell_type": "code",
   "execution_count": 39,
   "id": "cathedral-glass",
   "metadata": {},
   "outputs": [],
   "source": [
    "x = np.linspace(-12,12)\n",
    "steps = []"
   ]
  },
  {
   "cell_type": "code",
   "execution_count": 40,
   "id": "entertaining-scheduling",
   "metadata": {},
   "outputs": [],
   "source": [
    "x_star = random.choice(x)\n",
    "alpha = 1e-3"
   ]
  },
  {
   "cell_type": "code",
   "execution_count": 41,
   "id": "hawaiian-horizon",
   "metadata": {},
   "outputs": [
    {
     "name": "stderr",
     "output_type": "stream",
     "text": [
      "ic| x_star: 7.408, func(x_star): 794.8406400000001\n"
     ]
    },
    {
     "data": {
      "text/plain": [
       "(7.408, 794.8406400000001)"
      ]
     },
     "execution_count": 41,
     "metadata": {},
     "output_type": "execute_result"
    },
    {
     "name": "stderr",
     "output_type": "stream",
     "text": [
      "ic| x_star: 7.2278400000000005, func(x_star): 762.7075906560001\n"
     ]
    },
    {
     "data": {
      "text/plain": [
       "(7.2278400000000005, 762.7075906560001)"
      ]
     },
     "execution_count": 41,
     "metadata": {},
     "output_type": "execute_result"
    },
    {
     "name": "stderr",
     "output_type": "stream",
     "text": [
      "ic| x_star: 7.0512832, func(x_star): 731.8470100660224\n"
     ]
    },
    {
     "data": {
      "text/plain": [
       "(7.0512832, 731.8470100660224)"
      ]
     },
     "execution_count": 41,
     "metadata": {},
     "output_type": "execute_result"
    },
    {
     "name": "stderr",
     "output_type": "stream",
     "text": [
      "ic| x_star: 6.8782575360000004, func(x_star): 702.208508467408\n"
     ]
    },
    {
     "data": {
      "text/plain": [
       "(6.8782575360000004, 702.208508467408)"
      ]
     },
     "execution_count": 41,
     "metadata": {},
     "output_type": "execute_result"
    },
    {
     "name": "stderr",
     "output_type": "stream",
     "text": [
      "ic| x_star: 6.70869238528, func(x_star): 673.7436915320985\n"
     ]
    },
    {
     "data": {
      "text/plain": [
       "(6.70869238528, 673.7436915320985)"
      ]
     },
     "execution_count": 41,
     "metadata": {},
     "output_type": "execute_result"
    },
    {
     "name": "stderr",
     "output_type": "stream",
     "text": [
      "ic| x_star: 6.5425185375744, func(x_star): 646.4060813474275\n"
     ]
    },
    {
     "data": {
      "text/plain": [
       "(6.5425185375744, 646.4060813474275)"
      ]
     },
     "execution_count": 41,
     "metadata": {},
     "output_type": "execute_result"
    },
    {
     "name": "stderr",
     "output_type": "stream",
     "text": [
      "ic| x_star: 6.3796681668229125, func(x_star): 620.1510405260694\n"
     ]
    },
    {
     "data": {
      "text/plain": [
       "(6.3796681668229125, 620.1510405260694)"
      ]
     },
     "execution_count": 41,
     "metadata": {},
     "output_type": "execute_result"
    },
    {
     "name": "stderr",
     "output_type": "stream",
     "text": [
      "ic| x_star: 6.220074803486455, func(x_star): 594.935699321237\n"
     ]
    },
    {
     "data": {
      "text/plain": [
       "(6.220074803486455, 594.935699321237)"
      ]
     },
     "execution_count": 41,
     "metadata": {},
     "output_type": "execute_result"
    },
    {
     "name": "stderr",
     "output_type": "stream",
     "text": [
      "ic| x_star: 6.0636733074167255, func(x_star): 570.7188856281161\n"
     ]
    },
    {
     "data": {
      "text/plain": [
       "(6.0636733074167255, 570.7188856281161)"
      ]
     },
     "execution_count": 41,
     "metadata": {},
     "output_type": "execute_result"
    },
    {
     "name": "stderr",
     "output_type": "stream",
     "text": [
      "ic| x_star: 5.910399841268391, func(x_star): 547.4610577572427\n"
     ]
    },
    {
     "data": {
      "text/plain": [
       "(5.910399841268391, 547.4610577572427)"
      ]
     },
     "execution_count": 41,
     "metadata": {},
     "output_type": "execute_result"
    },
    {
     "name": "stderr",
     "output_type": "stream",
     "text": [
      "ic| x_star: 5.760191844443023, func(x_star): 525.1242398700558\n"
     ]
    },
    {
     "data": {
      "text/plain": [
       "(5.760191844443023, 525.1242398700558)"
      ]
     },
     "execution_count": 41,
     "metadata": {},
     "output_type": "execute_result"
    },
    {
     "name": "stderr",
     "output_type": "stream",
     "text": [
      "ic| x_star: 5.612988007554162, func(x_star): 503.67195997120166\n"
     ]
    },
    {
     "data": {
      "text/plain": [
       "(5.612988007554162, 503.67195997120166)"
      ]
     },
     "execution_count": 41,
     "metadata": {},
     "output_type": "execute_result"
    },
    {
     "name": "stderr",
     "output_type": "stream",
     "text": [
      "ic| x_star: 5.468728247403079, func(x_star): 483.069190356342\n"
     ]
    },
    {
     "data": {
      "text/plain": [
       "(5.468728247403079, 483.069190356342)"
      ]
     },
     "execution_count": 41,
     "metadata": {},
     "output_type": "execute_result"
    },
    {
     "name": "stderr",
     "output_type": "stream",
     "text": [
      "ic| x_star: 5.327353682455017, func(x_star): 463.2822904182309\n"
     ]
    },
    {
     "data": {
      "text/plain": [
       "(5.327353682455017, 463.2822904182309)"
      ]
     },
     "execution_count": 41,
     "metadata": {},
     "output_type": "execute_result"
    },
    {
     "name": "stderr",
     "output_type": "stream",
     "text": [
      "ic| x_star: 5.188806608805917, func(x_star): 444.278951717669\n"
     ]
    },
    {
     "data": {
      "text/plain": [
       "(5.188806608805917, 444.278951717669)"
      ]
     },
     "execution_count": 41,
     "metadata": {},
     "output_type": "execute_result"
    },
    {
     "name": "stderr",
     "output_type": "stream",
     "text": [
      "ic| x_star: 5.053030476629799, func(x_star): 426.02814522964934\n"
     ]
    },
    {
     "data": {
      "text/plain": [
       "(5.053030476629799, 426.02814522964934)"
      ]
     },
     "execution_count": 41,
     "metadata": {},
     "output_type": "execute_result"
    },
    {
     "name": "stderr",
     "output_type": "stream",
     "text": [
      "ic| x_star: 4.919969867097203, func(x_star): 408.5000706785552\n"
     ]
    },
    {
     "data": {
      "text/plain": [
       "(4.919969867097203, 408.5000706785552)"
      ]
     },
     "execution_count": 41,
     "metadata": {},
     "output_type": "execute_result"
    },
    {
     "name": "stderr",
     "output_type": "stream",
     "text": [
      "ic| x_star: 4.789570469755259, func(x_star): 391.66610787968443\n"
     ]
    },
    {
     "data": {
      "text/plain": [
       "(4.789570469755259, 391.66610787968443)"
      ]
     },
     "execution_count": 41,
     "metadata": {},
     "output_type": "execute_result"
    },
    {
     "name": "stderr",
     "output_type": "stream",
     "text": [
      "ic| x_star: 4.661779060360153, func(x_star): 375.4987700076489\n"
     ]
    },
    {
     "data": {
      "text/plain": [
       "(4.661779060360153, 375.4987700076489)"
      ]
     },
     "execution_count": 41,
     "metadata": {},
     "output_type": "execute_result"
    },
    {
     "name": "stderr",
     "output_type": "stream",
     "text": [
      "ic| x_star: 4.53654347915295, func(x_star): 359.97165871534594\n"
     ]
    },
    {
     "data": {
      "text/plain": [
       "(4.53654347915295, 359.97165871534594)"
      ]
     },
     "execution_count": 41,
     "metadata": {},
     "output_type": "execute_result"
    },
    {
     "name": "stderr",
     "output_type": "stream",
     "text": [
      "ic| x_star: 4.4138126095698915, func(x_star): 345.0594210302183\n"
     ]
    },
    {
     "data": {
      "text/plain": [
       "(4.4138126095698915, 345.0594210302183)"
      ]
     },
     "execution_count": 41,
     "metadata": {},
     "output_type": "execute_result"
    },
    {
     "name": "stderr",
     "output_type": "stream",
     "text": [
      "ic| x_star: 4.2935363573784935, func(x_star): 330.7377079574216\n"
     ]
    },
    {
     "data": {
      "text/plain": [
       "(4.2935363573784935, 330.7377079574216)"
      ]
     },
     "execution_count": 41,
     "metadata": {},
     "output_type": "execute_result"
    },
    {
     "name": "stderr",
     "output_type": "stream",
     "text": [
      "ic| x_star: 4.175665630230924, func(x_star): 316.98313472230774\n"
     ]
    },
    {
     "data": {
      "text/plain": [
       "(4.175665630230924, 316.98313472230774)"
      ]
     },
     "execution_count": 41,
     "metadata": {},
     "output_type": "execute_result"
    },
    {
     "name": "stderr",
     "output_type": "stream",
     "text": [
      "ic| x_star: 4.060152317626305, func(x_star): 303.77324258730437\n"
     ]
    },
    {
     "data": {
      "text/plain": [
       "(4.060152317626305, 303.77324258730437)"
      ]
     },
     "execution_count": 41,
     "metadata": {},
     "output_type": "execute_result"
    },
    {
     "name": "stderr",
     "output_type": "stream",
     "text": [
      "ic| x_star: 3.946949271273779, func(x_star): 291.0864621808471\n"
     ]
    },
    {
     "data": {
      "text/plain": [
       "(3.946949271273779, 291.0864621808471)"
      ]
     },
     "execution_count": 41,
     "metadata": {},
     "output_type": "execute_result"
    },
    {
     "name": "stderr",
     "output_type": "stream",
     "text": [
      "ic| x_star: 3.8360102858483036, func(x_star): 278.90207827848553\n"
     ]
    },
    {
     "data": {
      "text/plain": [
       "(3.8360102858483036, 278.90207827848553)"
      ]
     },
     "execution_count": 41,
     "metadata": {},
     "output_type": "execute_result"
    },
    {
     "name": "stderr",
     "output_type": "stream",
     "text": [
      "ic| x_star: 3.7272900801313376, func(x_star): 267.2001959786575\n"
     ]
    },
    {
     "data": {
      "text/plain": [
       "(3.7272900801313376, 267.2001959786575)"
      ]
     },
     "execution_count": 41,
     "metadata": {},
     "output_type": "execute_result"
    },
    {
     "name": "stderr",
     "output_type": "stream",
     "text": [
      "ic| x_star: 3.620744278528711, func(x_star): 255.9617082179027\n"
     ]
    },
    {
     "data": {
      "text/plain": [
       "(3.620744278528711, 255.9617082179027)"
      ]
     },
     "execution_count": 41,
     "metadata": {},
     "output_type": "execute_result"
    },
    {
     "name": "stderr",
     "output_type": "stream",
     "text": [
      "ic| x_star: 3.516329392958137, func(x_star): 245.1682645724738\n"
     ]
    },
    {
     "data": {
      "text/plain": [
       "(3.516329392958137, 245.1682645724738)"
      ]
     },
     "execution_count": 41,
     "metadata": {},
     "output_type": "execute_result"
    },
    {
     "name": "stderr",
     "output_type": "stream",
     "text": [
      "ic| x_star: 3.414002805098974, func(x_star): 234.8022412954038\n"
     ]
    },
    {
     "data": {
      "text/plain": [
       "(3.414002805098974, 234.8022412954038)"
      ]
     },
     "execution_count": 41,
     "metadata": {},
     "output_type": "execute_result"
    },
    {
     "name": "stderr",
     "output_type": "stream",
     "text": [
      "ic| x_star: 3.3137227489969945, func(x_star): 224.84671254010578\n"
     ]
    },
    {
     "data": {
      "text/plain": [
       "(3.3137227489969945, 224.84671254010578)"
      ]
     },
     "execution_count": 41,
     "metadata": {},
     "output_type": "execute_result"
    },
    {
     "name": "stderr",
     "output_type": "stream",
     "text": [
      "ic| x_star: 3.2154482940170546, func(x_star): 215.28542272351763\n"
     ]
    },
    {
     "data": {
      "text/plain": [
       "(3.2154482940170546, 215.28542272351763)"
      ]
     },
     "execution_count": 41,
     "metadata": {},
     "output_type": "execute_result"
    },
    {
     "name": "stderr",
     "output_type": "stream",
     "text": [
      "ic| x_star: 3.1191393281367135, func(x_star): 206.10275998366632\n"
     ]
    },
    {
     "data": {
      "text/plain": [
       "(3.1191393281367135, 206.10275998366632)"
      ]
     },
     "execution_count": 41,
     "metadata": {},
     "output_type": "execute_result"
    },
    {
     "name": "stderr",
     "output_type": "stream",
     "text": [
      "ic| x_star: 3.024756541573979, func(x_star): 197.2837306883131\n"
     ]
    },
    {
     "data": {
      "text/plain": [
       "(3.024756541573979, 197.2837306883131)"
      ]
     },
     "execution_count": 41,
     "metadata": {},
     "output_type": "execute_result"
    },
    {
     "name": "stderr",
     "output_type": "stream",
     "text": [
      "ic| x_star: 2.9322614107424996, func(x_star): 188.81393495305593\n"
     ]
    },
    {
     "data": {
      "text/plain": [
       "(2.9322614107424996, 188.81393495305593)"
      ]
     },
     "execution_count": 41,
     "metadata": {},
     "output_type": "execute_result"
    },
    {
     "name": "stderr",
     "output_type": "stream",
     "text": [
      "ic| x_star: 2.8416161825276496, func(x_star): 180.67954312891493\n"
     ]
    },
    {
     "data": {
      "text/plain": [
       "(2.8416161825276496, 180.67954312891493)"
      ]
     },
     "execution_count": 41,
     "metadata": {},
     "output_type": "execute_result"
    },
    {
     "name": "stderr",
     "output_type": "stream",
     "text": [
      "ic| x_star: 2.7527838588770965, func(x_star): 172.8672732210099\n"
     ]
    },
    {
     "data": {
      "text/plain": [
       "(2.7527838588770965, 172.8672732210099)"
      ]
     },
     "execution_count": 41,
     "metadata": {},
     "output_type": "execute_result"
    },
    {
     "name": "stderr",
     "output_type": "stream",
     "text": [
      "ic| x_star: 2.6657281816995546, func(x_star): 165.36436920145786\n"
     ]
    },
    {
     "data": {
      "text/plain": [
       "(2.6657281816995546, 165.36436920145786)"
      ]
     },
     "execution_count": 41,
     "metadata": {},
     "output_type": "execute_result"
    },
    {
     "name": "stderr",
     "output_type": "stream",
     "text": [
      "ic| x_star: 2.5804136180655637, func(x_star): 158.15858018108017\n"
     ]
    },
    {
     "data": {
      "text/plain": [
       "(2.5804136180655637, 158.15858018108017)"
      ]
     },
     "execution_count": 41,
     "metadata": {},
     "output_type": "execute_result"
    },
    {
     "name": "stderr",
     "output_type": "stream",
     "text": [
      "ic| x_star: 2.4968053457042525, func(x_star): 151.2381404059094\n"
     ]
    },
    {
     "data": {
      "text/plain": [
       "(2.4968053457042525, 151.2381404059094)"
      ]
     },
     "execution_count": 41,
     "metadata": {},
     "output_type": "execute_result"
    },
    {
     "name": "stderr",
     "output_type": "stream",
     "text": [
      "ic| x_star: 2.4148692387901676, func(x_star): 144.5917500458354\n"
     ]
    },
    {
     "data": {
      "text/plain": [
       "(2.4148692387901676, 144.5917500458354)"
      ]
     },
     "execution_count": 41,
     "metadata": {},
     "output_type": "execute_result"
    },
    {
     "name": "stderr",
     "output_type": "stream",
     "text": [
      "ic| x_star: 2.334571854014364, func(x_star): 138.2085567440203\n"
     ]
    },
    {
     "data": {
      "text/plain": [
       "(2.334571854014364, 138.2085567440203)"
      ]
     },
     "execution_count": 41,
     "metadata": {},
     "output_type": "execute_result"
    },
    {
     "name": "stderr",
     "output_type": "stream",
     "text": [
      "ic| x_star: 2.255880416934077, func(x_star): 132.07813789695712\n"
     ]
    },
    {
     "data": {
      "text/plain": [
       "(2.255880416934077, 132.07813789695712)"
      ]
     },
     "execution_count": 41,
     "metadata": {},
     "output_type": "execute_result"
    },
    {
     "name": "stderr",
     "output_type": "stream",
     "text": [
      "ic| x_star: 2.1787628085953954, func(x_star): 126.19048363623762\n"
     ]
    },
    {
     "data": {
      "text/plain": [
       "(2.1787628085953954, 126.19048363623762)"
      ]
     },
     "execution_count": 41,
     "metadata": {},
     "output_type": "execute_result"
    },
    {
     "name": "stderr",
     "output_type": "stream",
     "text": [
      "ic| x_star: 2.1031875524234875, func(x_star): 120.5359804842426\n"
     ]
    },
    {
     "data": {
      "text/plain": [
       "(2.1031875524234875, 120.5359804842426)"
      ]
     },
     "execution_count": 41,
     "metadata": {},
     "output_type": "execute_result"
    },
    {
     "name": "stderr",
     "output_type": "stream",
     "text": [
      "ic| x_star: 2.0291238013750177, func(x_star): 115.1053956570666\n"
     ]
    },
    {
     "data": {
      "text/plain": [
       "(2.0291238013750177, 115.1053956570666)"
      ]
     },
     "execution_count": 41,
     "metadata": {},
     "output_type": "execute_result"
    },
    {
     "name": "stderr",
     "output_type": "stream",
     "text": [
      "ic| x_star: 1.9565413253475172, func(x_star): 109.88986198904675\n"
     ]
    },
    {
     "data": {
      "text/plain": [
       "(1.9565413253475172, 109.88986198904675)"
      ]
     },
     "execution_count": 41,
     "metadata": {},
     "output_type": "execute_result"
    },
    {
     "name": "stderr",
     "output_type": "stream",
     "text": [
      "ic| x_star: 1.8854104988405669, func(x_star): 104.8808634542805\n"
     ]
    },
    {
     "data": {
      "text/plain": [
       "(1.8854104988405669, 104.8808634542805)"
      ]
     },
     "execution_count": 41,
     "metadata": {},
     "output_type": "execute_result"
    },
    {
     "name": "stderr",
     "output_type": "stream",
     "text": [
      "ic| x_star: 1.8157022888637555, func(x_star): 100.07022126149099\n"
     ]
    },
    {
     "data": {
      "text/plain": [
       "(1.8157022888637555, 100.07022126149099)"
      ]
     },
     "execution_count": 41,
     "metadata": {},
     "output_type": "execute_result"
    },
    {
     "name": "stderr",
     "output_type": "stream",
     "text": [
      "ic| x_star: 1.7473882430864804, func(x_star): 95.45008049953594\n"
     ]
    },
    {
     "data": {
      "text/plain": [
       "(1.7473882430864804, 95.45008049953594)"
      ]
     },
     "execution_count": 41,
     "metadata": {},
     "output_type": "execute_result"
    },
    {
     "name": "stderr",
     "output_type": "stream",
     "text": [
      "ic| x_star: 1.6804404782247508, func(x_star): 91.01289731175433\n"
     ]
    },
    {
     "data": {
      "text/plain": [
       "(1.6804404782247508, 91.01289731175433)"
      ]
     },
     "execution_count": 41,
     "metadata": {},
     "output_type": "execute_result"
    },
    {
     "name": "stderr",
     "output_type": "stream",
     "text": [
      "ic| x_star: 1.6148316686602557, func(x_star): 86.75142657820885\n"
     ]
    },
    {
     "data": {
      "text/plain": [
       "(1.6148316686602557, 86.75142657820885)"
      ]
     },
     "execution_count": 41,
     "metadata": {},
     "output_type": "execute_result"
    },
    {
     "name": "stderr",
     "output_type": "stream",
     "text": [
      "ic| x_star: 1.5505350352870506, func(x_star): 82.65871008571177\n"
     ]
    },
    {
     "data": {
      "text/plain": [
       "(1.5505350352870506, 82.65871008571177)"
      ]
     },
     "execution_count": 41,
     "metadata": {},
     "output_type": "execute_result"
    },
    {
     "name": "stderr",
     "output_type": "stream",
     "text": [
      "ic| x_star: 1.4875243345813096, func(x_star): 78.72806516631759\n"
     ]
    },
    {
     "data": {
      "text/plain": [
       "(1.4875243345813096, 78.72806516631759)"
      ]
     },
     "execution_count": 41,
     "metadata": {},
     "output_type": "execute_result"
    },
    {
     "name": "stderr",
     "output_type": "stream",
     "text": [
      "ic| x_star: 1.4257738478896833, func(x_star): 74.9530737857314\n"
     ]
    },
    {
     "data": {
      "text/plain": [
       "(1.4257738478896833, 74.9530737857314)"
      ]
     },
     "execution_count": 41,
     "metadata": {},
     "output_type": "execute_result"
    },
    {
     "name": "stderr",
     "output_type": "stream",
     "text": [
      "ic| x_star: 1.3652583709318897, func(x_star): 71.32757206381645\n"
     ]
    },
    {
     "data": {
      "text/plain": [
       "(1.3652583709318897, 71.32757206381645)"
      ]
     },
     "execution_count": 41,
     "metadata": {},
     "output_type": "execute_result"
    },
    {
     "name": "stderr",
     "output_type": "stream",
     "text": [
      "ic| x_star: 1.305953203513252, func(x_star): 67.84564021008931\n"
     ]
    },
    {
     "data": {
      "text/plain": [
       "(1.305953203513252, 67.84564021008931)"
      ]
     },
     "execution_count": 41,
     "metadata": {},
     "output_type": "execute_result"
    },
    {
     "name": "stderr",
     "output_type": "stream",
     "text": [
      "ic| x_star: 1.2478341394429868, func(x_star): 64.50159285776977\n"
     ]
    },
    {
     "data": {
      "text/plain": [
       "(1.2478341394429868, 64.50159285776977)"
      ]
     },
     "execution_count": 41,
     "metadata": {},
     "output_type": "execute_result"
    },
    {
     "name": "stderr",
     "output_type": "stream",
     "text": [
      "ic| x_star: 1.1908774566541271, func(x_star): 61.28996978060209\n"
     ]
    },
    {
     "data": {
      "text/plain": [
       "(1.1908774566541271, 61.28996978060209)"
      ]
     },
     "execution_count": 41,
     "metadata": {},
     "output_type": "execute_result"
    },
    {
     "name": "stderr",
     "output_type": "stream",
     "text": [
      "ic| x_star: 1.1350599075210446, func(x_star): 58.20552697729025\n"
     ]
    },
    {
     "data": {
      "text/plain": [
       "(1.1350599075210446, 58.20552697729025)"
      ]
     },
     "execution_count": 41,
     "metadata": {},
     "output_type": "execute_result"
    },
    {
     "name": "stderr",
     "output_type": "stream",
     "text": [
      "ic| x_star: 1.0803587093706237, func(x_star): 55.243228108989555\n"
     ]
    },
    {
     "data": {
      "text/plain": [
       "(1.0803587093706237, 55.243228108989555)"
      ]
     },
     "execution_count": 41,
     "metadata": {},
     "output_type": "execute_result"
    },
    {
     "name": "stderr",
     "output_type": "stream",
     "text": [
      "ic| x_star: 1.0267515351832113, func(x_star): 52.39823627587357\n"
     ]
    },
    {
     "data": {
      "text/plain": [
       "(1.0267515351832113, 52.39823627587357)"
      ]
     },
     "execution_count": 41,
     "metadata": {},
     "output_type": "execute_result"
    },
    {
     "name": "stderr",
     "output_type": "stream",
     "text": [
      "ic| x_star: 0.974216504479547, func(x_star): 49.665906119348975\n"
     ]
    },
    {
     "data": {
      "text/plain": [
       "(0.974216504479547, 49.665906119348975)"
      ]
     },
     "execution_count": 41,
     "metadata": {},
     "output_type": "execute_result"
    },
    {
     "name": "stderr",
     "output_type": "stream",
     "text": [
      "ic| x_star: 0.922732174389956, func(x_star): 47.04177623702276\n"
     ]
    },
    {
     "data": {
      "text/plain": [
       "(0.922732174389956, 47.04177623702276)"
      ]
     },
     "execution_count": 41,
     "metadata": {},
     "output_type": "execute_result"
    },
    {
     "name": "stderr",
     "output_type": "stream",
     "text": [
      "ic| x_star: 0.8722775309021569, func(x_star): 44.52156189803665\n"
     ]
    },
    {
     "data": {
      "text/plain": [
       "(0.8722775309021569, 44.52156189803665)"
      ]
     },
     "execution_count": 41,
     "metadata": {},
     "output_type": "execute_result"
    },
    {
     "name": "stderr",
     "output_type": "stream",
     "text": [
      "ic| x_star: 0.8228319802841138, func(x_star): 42.1011480468744\n"
     ]
    },
    {
     "data": {
      "text/plain": [
       "(0.8228319802841138, 42.1011480468744)"
      ]
     },
     "execution_count": 41,
     "metadata": {},
     "output_type": "execute_result"
    },
    {
     "name": "stderr",
     "output_type": "stream",
     "text": [
      "ic| x_star: 0.7743753406784315, func(x_star): 39.776582584218175\n"
     ]
    },
    {
     "data": {
      "text/plain": [
       "(0.7743753406784315, 39.776582584218175)"
      ]
     },
     "execution_count": 41,
     "metadata": {},
     "output_type": "execute_result"
    },
    {
     "name": "stderr",
     "output_type": "stream",
     "text": [
      "ic| x_star: 0.7268878338648629, func(x_star): 37.544069913883135\n"
     ]
    },
    {
     "data": {
      "text/plain": [
       "(0.7268878338648629, 37.544069913883135)"
      ]
     },
     "execution_count": 41,
     "metadata": {},
     "output_type": "execute_result"
    },
    {
     "name": "stderr",
     "output_type": "stream",
     "text": [
      "ic| x_star: 0.6803500771875657, func(x_star): 35.39996474529337\n"
     ]
    },
    {
     "data": {
      "text/plain": [
       "(0.6803500771875657, 35.39996474529337)"
      ]
     },
     "execution_count": 41,
     "metadata": {},
     "output_type": "execute_result"
    },
    {
     "name": "stderr",
     "output_type": "stream",
     "text": [
      "ic| x_star: 0.6347430756438144, func(x_star): 33.34076614137975\n"
     ]
    },
    {
     "data": {
      "text/plain": [
       "(0.6347430756438144, 33.34076614137975)"
      ]
     },
     "execution_count": 41,
     "metadata": {},
     "output_type": "execute_result"
    },
    {
     "name": "stderr",
     "output_type": "stream",
     "text": [
      "ic| x_star: 0.5900482141309381, func(x_star): 31.363111802181113\n"
     ]
    },
    {
     "data": {
      "text/plain": [
       "(0.5900482141309381, 31.363111802181113)"
      ]
     },
     "execution_count": 41,
     "metadata": {},
     "output_type": "execute_result"
    },
    {
     "name": "stderr",
     "output_type": "stream",
     "text": [
      "ic| x_star: 0.5462472498483193, func(x_star): 29.46377257481474\n"
     ]
    },
    {
     "data": {
      "text/plain": [
       "(0.5462472498483193, 29.46377257481474)"
      ]
     },
     "execution_count": 41,
     "metadata": {},
     "output_type": "execute_result"
    },
    {
     "name": "stderr",
     "output_type": "stream",
     "text": [
      "ic| x_star: 0.5033223048513529, func(x_star): 27.639647180852073\n"
     ]
    },
    {
     "data": {
      "text/plain": [
       "(0.5033223048513529, 27.639647180852073)"
      ]
     },
     "execution_count": 41,
     "metadata": {},
     "output_type": "execute_result"
    },
    {
     "name": "stderr",
     "output_type": "stream",
     "text": [
      "ic| x_star: 0.46125585875432584, func(x_star): 25.887757152490334\n"
     ]
    },
    {
     "data": {
      "text/plain": [
       "(0.46125585875432584, 25.887757152490334)"
      ]
     },
     "execution_count": 41,
     "metadata": {},
     "output_type": "execute_result"
    },
    {
     "name": "stderr",
     "output_type": "stream",
     "text": [
      "ic| x_star: 0.4200307415792393, func(x_star): 24.205241969251716\n"
     ]
    },
    {
     "data": {
      "text/plain": [
       "(0.4200307415792393, 24.205241969251716)"
      ]
     },
     "execution_count": 41,
     "metadata": {},
     "output_type": "execute_result"
    },
    {
     "name": "stderr",
     "output_type": "stream",
     "text": [
      "ic| x_star: 0.3796301267476545, func(x_star): 22.589354387269346\n"
     ]
    },
    {
     "data": {
      "text/plain": [
       "(0.3796301267476545, 22.589354387269346)"
      ]
     },
     "execution_count": 41,
     "metadata": {},
     "output_type": "execute_result"
    },
    {
     "name": "stderr",
     "output_type": "stream",
     "text": [
      "ic| x_star: 0.3400375242127014, func(x_star): 21.03745595353348\n"
     ]
    },
    {
     "data": {
      "text/plain": [
       "(0.3400375242127014, 21.03745595353348)"
      ]
     },
     "execution_count": 41,
     "metadata": {},
     "output_type": "execute_result"
    },
    {
     "name": "stderr",
     "output_type": "stream",
     "text": [
      "ic| x_star: 0.30123677372844737, func(x_star): 19.547012697773553\n"
     ]
    },
    {
     "data": {
      "text/plain": [
       "(0.30123677372844737, 19.547012697773553)"
      ]
     },
     "execution_count": 41,
     "metadata": {},
     "output_type": "execute_result"
    },
    {
     "name": "stderr",
     "output_type": "stream",
     "text": [
      "ic| x_star: 0.2632120382538784, func(x_star): 18.11559099494172\n"
     ]
    },
    {
     "data": {
      "text/plain": [
       "(0.2632120382538784, 18.11559099494172)"
      ]
     },
     "execution_count": 41,
     "metadata": {},
     "output_type": "execute_result"
    },
    {
     "name": "stderr",
     "output_type": "stream",
     "text": [
      "ic| x_star: 0.22594779748880084, func(x_star): 16.740853591542027\n"
     ]
    },
    {
     "data": {
      "text/plain": [
       "(0.22594779748880084, 16.740853591542027)"
      ]
     },
     "execution_count": 41,
     "metadata": {},
     "output_type": "execute_result"
    },
    {
     "name": "stderr",
     "output_type": "stream",
     "text": [
      "ic| x_star: 0.18942884153902484, func(x_star): 15.420555789316964\n"
     ]
    },
    {
     "data": {
      "text/plain": [
       "(0.18942884153902484, 15.420555789316964)"
      ]
     },
     "execution_count": 41,
     "metadata": {},
     "output_type": "execute_result"
    },
    {
     "name": "stderr",
     "output_type": "stream",
     "text": [
      "ic| x_star: 0.15364026470824432, func(x_star): 14.152541780060012\n"
     ]
    },
    {
     "data": {
      "text/plain": [
       "(0.15364026470824432, 14.152541780060012)"
      ]
     },
     "execution_count": 41,
     "metadata": {},
     "output_type": "execute_result"
    },
    {
     "name": "stderr",
     "output_type": "stream",
     "text": [
      "ic| x_star: 0.11856745941407944, func(x_star): 12.934741125569635\n"
     ]
    },
    {
     "data": {
      "text/plain": [
       "(0.11856745941407944, 12.934741125569635)"
      ]
     },
     "execution_count": 41,
     "metadata": {},
     "output_type": "execute_result"
    },
    {
     "name": "stderr",
     "output_type": "stream",
     "text": [
      "ic| x_star: 0.08419611022579784, func(x_star): 11.765165376997079\n"
     ]
    },
    {
     "data": {
      "text/plain": [
       "(0.08419611022579784, 11.765165376997079)"
      ]
     },
     "execution_count": 41,
     "metadata": {},
     "output_type": "execute_result"
    },
    {
     "name": "stderr",
     "output_type": "stream",
     "text": [
      "ic| x_star: 0.050512188021281886, func(x_star): 10.641904828067993\n"
     ]
    },
    {
     "data": {
      "text/plain": [
       "(0.050512188021281886, 10.641904828067993)"
      ]
     },
     "execution_count": 41,
     "metadata": {},
     "output_type": "execute_result"
    },
    {
     "name": "stderr",
     "output_type": "stream",
     "text": [
      "ic| x_star: 0.017501944260856245, func(x_star): 9.5631253968765\n"
     ]
    },
    {
     "data": {
      "text/plain": [
       "(0.017501944260856245, 9.5631253968765)"
      ]
     },
     "execution_count": 41,
     "metadata": {},
     "output_type": "execute_result"
    },
    {
     "name": "stderr",
     "output_type": "stream",
     "text": [
      "ic| x_star: -0.014848094624360882, func(x_star): 8.527065631160191\n"
     ]
    },
    {
     "data": {
      "text/plain": [
       "(-0.014848094624360882, 8.527065631160191)"
      ]
     },
     "execution_count": 41,
     "metadata": {},
     "output_type": "execute_result"
    },
    {
     "name": "stderr",
     "output_type": "stream",
     "text": [
      "ic| x_star: -0.04655113273187366, func(x_star): 7.532033832166248\n"
     ]
    },
    {
     "data": {
      "text/plain": [
       "(-0.04655113273187366, 7.532033832166248)"
      ]
     },
     "execution_count": 41,
     "metadata": {},
     "output_type": "execute_result"
    },
    {
     "name": "stderr",
     "output_type": "stream",
     "text": [
      "ic| x_star: -0.07762011007723618, func(x_star): 6.576405292412465\n"
     ]
    },
    {
     "data": {
      "text/plain": [
       "(-0.07762011007723618, 6.576405292412465)"
      ]
     },
     "execution_count": 41,
     "metadata": {},
     "output_type": "execute_result"
    },
    {
     "name": "stderr",
     "output_type": "stream",
     "text": [
      "ic| x_star: -0.10806770787569146, func(x_star): 5.658619642832932\n"
     ]
    },
    {
     "data": {
      "text/plain": [
       "(-0.10806770787569146, 5.658619642832932)"
      ]
     },
     "execution_count": 41,
     "metadata": {},
     "output_type": "execute_result"
    },
    {
     "name": "stderr",
     "output_type": "stream",
     "text": [
      "ic| x_star: -0.13790635371817764, func(x_star): 4.777178304976747\n"
     ]
    },
    {
     "data": {
      "text/plain": [
       "(-0.13790635371817764, 4.777178304976747)"
      ]
     },
     "execution_count": 41,
     "metadata": {},
     "output_type": "execute_result"
    },
    {
     "name": "stderr",
     "output_type": "stream",
     "text": [
      "ic| x_star: -0.1671482266438141, func(x_star): 3.9306420440996677\n"
     ]
    },
    {
     "data": {
      "text/plain": [
       "(-0.1671482266438141, 3.9306420440996677)"
      ]
     },
     "execution_count": 41,
     "metadata": {},
     "output_type": "execute_result"
    },
    {
     "name": "stderr",
     "output_type": "stream",
     "text": [
      "ic| x_star: -0.19580526211093782, func(x_star): 3.1176286191533205\n"
     ]
    },
    {
     "data": {
      "text/plain": [
       "(-0.19580526211093782, 3.1176286191533205)"
      ]
     },
     "execution_count": 41,
     "metadata": {},
     "output_type": "execute_result"
    },
    {
     "name": "stderr",
     "output_type": "stream",
     "text": [
      "ic| x_star: -0.22388915686871907, func(x_star): 2.3368105258348484\n"
     ]
    },
    {
     "data": {
      "text/plain": [
       "(-0.22388915686871907, 2.3368105258348484)"
      ]
     },
     "execution_count": 41,
     "metadata": {},
     "output_type": "execute_result"
    },
    {
     "name": "stderr",
     "output_type": "stream",
     "text": [
      "ic| x_star: -0.2514113737313447, func(x_star): 1.586912829011788\n"
     ]
    },
    {
     "data": {
      "text/plain": [
       "(-0.2514113737313447, 1.586912829011788)"
      ]
     },
     "execution_count": 41,
     "metadata": {},
     "output_type": "execute_result"
    },
    {
     "name": "stderr",
     "output_type": "stream",
     "text": [
      "ic| x_star: -0.2783831462567178, func(x_star): 0.8667110809829222\n"
     ]
    },
    {
     "data": {
      "text/plain": [
       "(-0.2783831462567178, 0.8667110809829222)"
      ]
     },
     "execution_count": 41,
     "metadata": {},
     "output_type": "execute_result"
    },
    {
     "name": "stderr",
     "output_type": "stream",
     "text": [
      "ic| x_star: -0.3048154833315834, func(x_star): 0.1750293221759982\n"
     ]
    },
    {
     "data": {
      "text/plain": [
       "(-0.3048154833315834, 0.1750293221759982)"
      ]
     },
     "execution_count": 41,
     "metadata": {},
     "output_type": "execute_result"
    },
    {
     "name": "stderr",
     "output_type": "stream",
     "text": [
      "ic| x_star: -0.33071917366495174, func(x_star): -0.4892618389821699\n"
     ]
    },
    {
     "data": {
      "text/plain": [
       "(-0.33071917366495174, -0.4892618389821699)"
      ]
     },
     "execution_count": 41,
     "metadata": {},
     "output_type": "execute_result"
    },
    {
     "name": "stderr",
     "output_type": "stream",
     "text": [
      "ic| x_star: -0.3561047901916527, func(x_star): -1.127247070158477\n"
     ]
    },
    {
     "data": {
      "text/plain": [
       "(-0.3561047901916527, -1.127247070158477)"
      ]
     },
     "execution_count": 41,
     "metadata": {},
     "output_type": "execute_result"
    },
    {
     "name": "stderr",
     "output_type": "stream",
     "text": [
      "ic| x_star: -0.3809826943878196, func(x_star): -1.7399680861802\n"
     ]
    },
    {
     "data": {
      "text/plain": [
       "(-0.3809826943878196, -1.7399680861802)"
      ]
     },
     "execution_count": 41,
     "metadata": {},
     "output_type": "execute_result"
    }
   ],
   "source": [
    "for i in range(100):\n",
    "    x_star = x_star + -1*gradient(x_star)*alpha\n",
    "    steps.append(x_star)\n",
    "    ic(x_star, func(x_star))"
   ]
  },
  {
   "cell_type": "code",
   "execution_count": 42,
   "id": "documentary-leeds",
   "metadata": {},
   "outputs": [
    {
     "data": {
      "text/plain": [
       "[<matplotlib.lines.Line2D at 0x14dff1d6b88>]"
      ]
     },
     "execution_count": 42,
     "metadata": {},
     "output_type": "execute_result"
    },
    {
     "data": {
      "text/plain": [
       "Text(7.408, 794.8406400000001, '1')"
      ]
     },
     "execution_count": 42,
     "metadata": {},
     "output_type": "execute_result"
    },
    {
     "data": {
      "text/plain": [
       "Text(7.2278400000000005, 762.7075906560001, '2')"
      ]
     },
     "execution_count": 42,
     "metadata": {},
     "output_type": "execute_result"
    },
    {
     "data": {
      "text/plain": [
       "Text(7.0512832, 731.8470100660224, '3')"
      ]
     },
     "execution_count": 42,
     "metadata": {},
     "output_type": "execute_result"
    },
    {
     "data": {
      "text/plain": [
       "Text(6.8782575360000004, 702.208508467408, '4')"
      ]
     },
     "execution_count": 42,
     "metadata": {},
     "output_type": "execute_result"
    },
    {
     "data": {
      "text/plain": [
       "Text(6.70869238528, 673.7436915320985, '5')"
      ]
     },
     "execution_count": 42,
     "metadata": {},
     "output_type": "execute_result"
    },
    {
     "data": {
      "text/plain": [
       "Text(6.5425185375744, 646.4060813474275, '6')"
      ]
     },
     "execution_count": 42,
     "metadata": {},
     "output_type": "execute_result"
    },
    {
     "data": {
      "text/plain": [
       "Text(6.3796681668229125, 620.1510405260694, '7')"
      ]
     },
     "execution_count": 42,
     "metadata": {},
     "output_type": "execute_result"
    },
    {
     "data": {
      "text/plain": [
       "Text(6.220074803486455, 594.935699321237, '8')"
      ]
     },
     "execution_count": 42,
     "metadata": {},
     "output_type": "execute_result"
    },
    {
     "data": {
      "text/plain": [
       "Text(6.0636733074167255, 570.7188856281161, '9')"
      ]
     },
     "execution_count": 42,
     "metadata": {},
     "output_type": "execute_result"
    },
    {
     "data": {
      "text/plain": [
       "Text(5.910399841268391, 547.4610577572427, '10')"
      ]
     },
     "execution_count": 42,
     "metadata": {},
     "output_type": "execute_result"
    },
    {
     "data": {
      "text/plain": [
       "Text(5.760191844443023, 525.1242398700558, '11')"
      ]
     },
     "execution_count": 42,
     "metadata": {},
     "output_type": "execute_result"
    },
    {
     "data": {
      "text/plain": [
       "Text(5.612988007554162, 503.67195997120166, '12')"
      ]
     },
     "execution_count": 42,
     "metadata": {},
     "output_type": "execute_result"
    },
    {
     "data": {
      "text/plain": [
       "Text(5.468728247403079, 483.069190356342, '13')"
      ]
     },
     "execution_count": 42,
     "metadata": {},
     "output_type": "execute_result"
    },
    {
     "data": {
      "text/plain": [
       "Text(5.327353682455017, 463.2822904182309, '14')"
      ]
     },
     "execution_count": 42,
     "metadata": {},
     "output_type": "execute_result"
    },
    {
     "data": {
      "text/plain": [
       "Text(5.188806608805917, 444.278951717669, '15')"
      ]
     },
     "execution_count": 42,
     "metadata": {},
     "output_type": "execute_result"
    },
    {
     "data": {
      "text/plain": [
       "Text(5.053030476629799, 426.02814522964934, '16')"
      ]
     },
     "execution_count": 42,
     "metadata": {},
     "output_type": "execute_result"
    },
    {
     "data": {
      "text/plain": [
       "Text(4.919969867097203, 408.5000706785552, '17')"
      ]
     },
     "execution_count": 42,
     "metadata": {},
     "output_type": "execute_result"
    },
    {
     "data": {
      "text/plain": [
       "Text(4.789570469755259, 391.66610787968443, '18')"
      ]
     },
     "execution_count": 42,
     "metadata": {},
     "output_type": "execute_result"
    },
    {
     "data": {
      "text/plain": [
       "Text(4.661779060360153, 375.4987700076489, '19')"
      ]
     },
     "execution_count": 42,
     "metadata": {},
     "output_type": "execute_result"
    },
    {
     "data": {
      "text/plain": [
       "Text(4.53654347915295, 359.97165871534594, '20')"
      ]
     },
     "execution_count": 42,
     "metadata": {},
     "output_type": "execute_result"
    },
    {
     "data": {
      "text/plain": [
       "Text(4.4138126095698915, 345.0594210302183, '21')"
      ]
     },
     "execution_count": 42,
     "metadata": {},
     "output_type": "execute_result"
    },
    {
     "data": {
      "text/plain": [
       "Text(4.2935363573784935, 330.7377079574216, '22')"
      ]
     },
     "execution_count": 42,
     "metadata": {},
     "output_type": "execute_result"
    },
    {
     "data": {
      "text/plain": [
       "Text(4.175665630230924, 316.98313472230774, '23')"
      ]
     },
     "execution_count": 42,
     "metadata": {},
     "output_type": "execute_result"
    },
    {
     "data": {
      "text/plain": [
       "Text(4.060152317626305, 303.77324258730437, '24')"
      ]
     },
     "execution_count": 42,
     "metadata": {},
     "output_type": "execute_result"
    },
    {
     "data": {
      "text/plain": [
       "Text(3.946949271273779, 291.0864621808471, '25')"
      ]
     },
     "execution_count": 42,
     "metadata": {},
     "output_type": "execute_result"
    },
    {
     "data": {
      "text/plain": [
       "Text(3.8360102858483036, 278.90207827848553, '26')"
      ]
     },
     "execution_count": 42,
     "metadata": {},
     "output_type": "execute_result"
    },
    {
     "data": {
      "text/plain": [
       "Text(3.7272900801313376, 267.2001959786575, '27')"
      ]
     },
     "execution_count": 42,
     "metadata": {},
     "output_type": "execute_result"
    },
    {
     "data": {
      "text/plain": [
       "Text(3.620744278528711, 255.9617082179027, '28')"
      ]
     },
     "execution_count": 42,
     "metadata": {},
     "output_type": "execute_result"
    },
    {
     "data": {
      "text/plain": [
       "Text(3.516329392958137, 245.1682645724738, '29')"
      ]
     },
     "execution_count": 42,
     "metadata": {},
     "output_type": "execute_result"
    },
    {
     "data": {
      "text/plain": [
       "Text(3.414002805098974, 234.8022412954038, '30')"
      ]
     },
     "execution_count": 42,
     "metadata": {},
     "output_type": "execute_result"
    },
    {
     "data": {
      "text/plain": [
       "Text(3.3137227489969945, 224.84671254010578, '31')"
      ]
     },
     "execution_count": 42,
     "metadata": {},
     "output_type": "execute_result"
    },
    {
     "data": {
      "text/plain": [
       "Text(3.2154482940170546, 215.28542272351763, '32')"
      ]
     },
     "execution_count": 42,
     "metadata": {},
     "output_type": "execute_result"
    },
    {
     "data": {
      "text/plain": [
       "Text(3.1191393281367135, 206.10275998366632, '33')"
      ]
     },
     "execution_count": 42,
     "metadata": {},
     "output_type": "execute_result"
    },
    {
     "data": {
      "text/plain": [
       "Text(3.024756541573979, 197.2837306883131, '34')"
      ]
     },
     "execution_count": 42,
     "metadata": {},
     "output_type": "execute_result"
    },
    {
     "data": {
      "text/plain": [
       "Text(2.9322614107424996, 188.81393495305593, '35')"
      ]
     },
     "execution_count": 42,
     "metadata": {},
     "output_type": "execute_result"
    },
    {
     "data": {
      "text/plain": [
       "Text(2.8416161825276496, 180.67954312891493, '36')"
      ]
     },
     "execution_count": 42,
     "metadata": {},
     "output_type": "execute_result"
    },
    {
     "data": {
      "text/plain": [
       "Text(2.7527838588770965, 172.8672732210099, '37')"
      ]
     },
     "execution_count": 42,
     "metadata": {},
     "output_type": "execute_result"
    },
    {
     "data": {
      "text/plain": [
       "Text(2.6657281816995546, 165.36436920145786, '38')"
      ]
     },
     "execution_count": 42,
     "metadata": {},
     "output_type": "execute_result"
    },
    {
     "data": {
      "text/plain": [
       "Text(2.5804136180655637, 158.15858018108017, '39')"
      ]
     },
     "execution_count": 42,
     "metadata": {},
     "output_type": "execute_result"
    },
    {
     "data": {
      "text/plain": [
       "Text(2.4968053457042525, 151.2381404059094, '40')"
      ]
     },
     "execution_count": 42,
     "metadata": {},
     "output_type": "execute_result"
    },
    {
     "data": {
      "text/plain": [
       "Text(2.4148692387901676, 144.5917500458354, '41')"
      ]
     },
     "execution_count": 42,
     "metadata": {},
     "output_type": "execute_result"
    },
    {
     "data": {
      "text/plain": [
       "Text(2.334571854014364, 138.2085567440203, '42')"
      ]
     },
     "execution_count": 42,
     "metadata": {},
     "output_type": "execute_result"
    },
    {
     "data": {
      "text/plain": [
       "Text(2.255880416934077, 132.07813789695712, '43')"
      ]
     },
     "execution_count": 42,
     "metadata": {},
     "output_type": "execute_result"
    },
    {
     "data": {
      "text/plain": [
       "Text(2.1787628085953954, 126.19048363623762, '44')"
      ]
     },
     "execution_count": 42,
     "metadata": {},
     "output_type": "execute_result"
    },
    {
     "data": {
      "text/plain": [
       "Text(2.1031875524234875, 120.5359804842426, '45')"
      ]
     },
     "execution_count": 42,
     "metadata": {},
     "output_type": "execute_result"
    },
    {
     "data": {
      "text/plain": [
       "Text(2.0291238013750177, 115.1053956570666, '46')"
      ]
     },
     "execution_count": 42,
     "metadata": {},
     "output_type": "execute_result"
    },
    {
     "data": {
      "text/plain": [
       "Text(1.9565413253475172, 109.88986198904675, '47')"
      ]
     },
     "execution_count": 42,
     "metadata": {},
     "output_type": "execute_result"
    },
    {
     "data": {
      "text/plain": [
       "Text(1.8854104988405669, 104.8808634542805, '48')"
      ]
     },
     "execution_count": 42,
     "metadata": {},
     "output_type": "execute_result"
    },
    {
     "data": {
      "text/plain": [
       "Text(1.8157022888637555, 100.07022126149099, '49')"
      ]
     },
     "execution_count": 42,
     "metadata": {},
     "output_type": "execute_result"
    },
    {
     "data": {
      "text/plain": [
       "Text(1.7473882430864804, 95.45008049953594, '50')"
      ]
     },
     "execution_count": 42,
     "metadata": {},
     "output_type": "execute_result"
    },
    {
     "data": {
      "text/plain": [
       "Text(1.6804404782247508, 91.01289731175433, '51')"
      ]
     },
     "execution_count": 42,
     "metadata": {},
     "output_type": "execute_result"
    },
    {
     "data": {
      "text/plain": [
       "Text(1.6148316686602557, 86.75142657820885, '52')"
      ]
     },
     "execution_count": 42,
     "metadata": {},
     "output_type": "execute_result"
    },
    {
     "data": {
      "text/plain": [
       "Text(1.5505350352870506, 82.65871008571177, '53')"
      ]
     },
     "execution_count": 42,
     "metadata": {},
     "output_type": "execute_result"
    },
    {
     "data": {
      "text/plain": [
       "Text(1.4875243345813096, 78.72806516631759, '54')"
      ]
     },
     "execution_count": 42,
     "metadata": {},
     "output_type": "execute_result"
    },
    {
     "data": {
      "text/plain": [
       "Text(1.4257738478896833, 74.9530737857314, '55')"
      ]
     },
     "execution_count": 42,
     "metadata": {},
     "output_type": "execute_result"
    },
    {
     "data": {
      "text/plain": [
       "Text(1.3652583709318897, 71.32757206381645, '56')"
      ]
     },
     "execution_count": 42,
     "metadata": {},
     "output_type": "execute_result"
    },
    {
     "data": {
      "text/plain": [
       "Text(1.305953203513252, 67.84564021008931, '57')"
      ]
     },
     "execution_count": 42,
     "metadata": {},
     "output_type": "execute_result"
    },
    {
     "data": {
      "text/plain": [
       "Text(1.2478341394429868, 64.50159285776977, '58')"
      ]
     },
     "execution_count": 42,
     "metadata": {},
     "output_type": "execute_result"
    },
    {
     "data": {
      "text/plain": [
       "Text(1.1908774566541271, 61.28996978060209, '59')"
      ]
     },
     "execution_count": 42,
     "metadata": {},
     "output_type": "execute_result"
    },
    {
     "data": {
      "text/plain": [
       "Text(1.1350599075210446, 58.20552697729025, '60')"
      ]
     },
     "execution_count": 42,
     "metadata": {},
     "output_type": "execute_result"
    },
    {
     "data": {
      "text/plain": [
       "Text(1.0803587093706237, 55.243228108989555, '61')"
      ]
     },
     "execution_count": 42,
     "metadata": {},
     "output_type": "execute_result"
    },
    {
     "data": {
      "text/plain": [
       "Text(1.0267515351832113, 52.39823627587357, '62')"
      ]
     },
     "execution_count": 42,
     "metadata": {},
     "output_type": "execute_result"
    },
    {
     "data": {
      "text/plain": [
       "Text(0.974216504479547, 49.665906119348975, '63')"
      ]
     },
     "execution_count": 42,
     "metadata": {},
     "output_type": "execute_result"
    },
    {
     "data": {
      "text/plain": [
       "Text(0.922732174389956, 47.04177623702276, '64')"
      ]
     },
     "execution_count": 42,
     "metadata": {},
     "output_type": "execute_result"
    },
    {
     "data": {
      "text/plain": [
       "Text(0.8722775309021569, 44.52156189803665, '65')"
      ]
     },
     "execution_count": 42,
     "metadata": {},
     "output_type": "execute_result"
    },
    {
     "data": {
      "text/plain": [
       "Text(0.8228319802841138, 42.1011480468744, '66')"
      ]
     },
     "execution_count": 42,
     "metadata": {},
     "output_type": "execute_result"
    },
    {
     "data": {
      "text/plain": [
       "Text(0.7743753406784315, 39.776582584218175, '67')"
      ]
     },
     "execution_count": 42,
     "metadata": {},
     "output_type": "execute_result"
    },
    {
     "data": {
      "text/plain": [
       "Text(0.7268878338648629, 37.544069913883135, '68')"
      ]
     },
     "execution_count": 42,
     "metadata": {},
     "output_type": "execute_result"
    },
    {
     "data": {
      "text/plain": [
       "Text(0.6803500771875657, 35.39996474529337, '69')"
      ]
     },
     "execution_count": 42,
     "metadata": {},
     "output_type": "execute_result"
    },
    {
     "data": {
      "text/plain": [
       "Text(0.6347430756438144, 33.34076614137975, '70')"
      ]
     },
     "execution_count": 42,
     "metadata": {},
     "output_type": "execute_result"
    },
    {
     "data": {
      "text/plain": [
       "Text(0.5900482141309381, 31.363111802181113, '71')"
      ]
     },
     "execution_count": 42,
     "metadata": {},
     "output_type": "execute_result"
    },
    {
     "data": {
      "text/plain": [
       "Text(0.5462472498483193, 29.46377257481474, '72')"
      ]
     },
     "execution_count": 42,
     "metadata": {},
     "output_type": "execute_result"
    },
    {
     "data": {
      "text/plain": [
       "Text(0.5033223048513529, 27.639647180852073, '73')"
      ]
     },
     "execution_count": 42,
     "metadata": {},
     "output_type": "execute_result"
    },
    {
     "data": {
      "text/plain": [
       "Text(0.46125585875432584, 25.887757152490334, '74')"
      ]
     },
     "execution_count": 42,
     "metadata": {},
     "output_type": "execute_result"
    },
    {
     "data": {
      "text/plain": [
       "Text(0.4200307415792393, 24.205241969251716, '75')"
      ]
     },
     "execution_count": 42,
     "metadata": {},
     "output_type": "execute_result"
    },
    {
     "data": {
      "text/plain": [
       "Text(0.3796301267476545, 22.589354387269346, '76')"
      ]
     },
     "execution_count": 42,
     "metadata": {},
     "output_type": "execute_result"
    },
    {
     "data": {
      "text/plain": [
       "Text(0.3400375242127014, 21.03745595353348, '77')"
      ]
     },
     "execution_count": 42,
     "metadata": {},
     "output_type": "execute_result"
    },
    {
     "data": {
      "text/plain": [
       "Text(0.30123677372844737, 19.547012697773553, '78')"
      ]
     },
     "execution_count": 42,
     "metadata": {},
     "output_type": "execute_result"
    },
    {
     "data": {
      "text/plain": [
       "Text(0.2632120382538784, 18.11559099494172, '79')"
      ]
     },
     "execution_count": 42,
     "metadata": {},
     "output_type": "execute_result"
    },
    {
     "data": {
      "text/plain": [
       "Text(0.22594779748880084, 16.740853591542027, '80')"
      ]
     },
     "execution_count": 42,
     "metadata": {},
     "output_type": "execute_result"
    },
    {
     "data": {
      "text/plain": [
       "Text(0.18942884153902484, 15.420555789316964, '81')"
      ]
     },
     "execution_count": 42,
     "metadata": {},
     "output_type": "execute_result"
    },
    {
     "data": {
      "text/plain": [
       "Text(0.15364026470824432, 14.152541780060012, '82')"
      ]
     },
     "execution_count": 42,
     "metadata": {},
     "output_type": "execute_result"
    },
    {
     "data": {
      "text/plain": [
       "Text(0.11856745941407944, 12.934741125569635, '83')"
      ]
     },
     "execution_count": 42,
     "metadata": {},
     "output_type": "execute_result"
    },
    {
     "data": {
      "text/plain": [
       "Text(0.08419611022579784, 11.765165376997079, '84')"
      ]
     },
     "execution_count": 42,
     "metadata": {},
     "output_type": "execute_result"
    },
    {
     "data": {
      "text/plain": [
       "Text(0.050512188021281886, 10.641904828067993, '85')"
      ]
     },
     "execution_count": 42,
     "metadata": {},
     "output_type": "execute_result"
    },
    {
     "data": {
      "text/plain": [
       "Text(0.017501944260856245, 9.5631253968765, '86')"
      ]
     },
     "execution_count": 42,
     "metadata": {},
     "output_type": "execute_result"
    },
    {
     "data": {
      "text/plain": [
       "Text(-0.014848094624360882, 8.527065631160191, '87')"
      ]
     },
     "execution_count": 42,
     "metadata": {},
     "output_type": "execute_result"
    },
    {
     "data": {
      "text/plain": [
       "Text(-0.04655113273187366, 7.532033832166248, '88')"
      ]
     },
     "execution_count": 42,
     "metadata": {},
     "output_type": "execute_result"
    },
    {
     "data": {
      "text/plain": [
       "Text(-0.07762011007723618, 6.576405292412465, '89')"
      ]
     },
     "execution_count": 42,
     "metadata": {},
     "output_type": "execute_result"
    },
    {
     "data": {
      "text/plain": [
       "Text(-0.10806770787569146, 5.658619642832932, '90')"
      ]
     },
     "execution_count": 42,
     "metadata": {},
     "output_type": "execute_result"
    },
    {
     "data": {
      "text/plain": [
       "Text(-0.13790635371817764, 4.777178304976747, '91')"
      ]
     },
     "execution_count": 42,
     "metadata": {},
     "output_type": "execute_result"
    },
    {
     "data": {
      "text/plain": [
       "Text(-0.1671482266438141, 3.9306420440996677, '92')"
      ]
     },
     "execution_count": 42,
     "metadata": {},
     "output_type": "execute_result"
    },
    {
     "data": {
      "text/plain": [
       "Text(-0.19580526211093782, 3.1176286191533205, '93')"
      ]
     },
     "execution_count": 42,
     "metadata": {},
     "output_type": "execute_result"
    },
    {
     "data": {
      "text/plain": [
       "Text(-0.22388915686871907, 2.3368105258348484, '94')"
      ]
     },
     "execution_count": 42,
     "metadata": {},
     "output_type": "execute_result"
    },
    {
     "data": {
      "text/plain": [
       "Text(-0.2514113737313447, 1.586912829011788, '95')"
      ]
     },
     "execution_count": 42,
     "metadata": {},
     "output_type": "execute_result"
    },
    {
     "data": {
      "text/plain": [
       "Text(-0.2783831462567178, 0.8667110809829222, '96')"
      ]
     },
     "execution_count": 42,
     "metadata": {},
     "output_type": "execute_result"
    },
    {
     "data": {
      "text/plain": [
       "Text(-0.3048154833315834, 0.1750293221759982, '97')"
      ]
     },
     "execution_count": 42,
     "metadata": {},
     "output_type": "execute_result"
    },
    {
     "data": {
      "text/plain": [
       "Text(-0.33071917366495174, -0.4892618389821699, '98')"
      ]
     },
     "execution_count": 42,
     "metadata": {},
     "output_type": "execute_result"
    },
    {
     "data": {
      "text/plain": [
       "Text(-0.3561047901916527, -1.127247070158477, '99')"
      ]
     },
     "execution_count": 42,
     "metadata": {},
     "output_type": "execute_result"
    },
    {
     "data": {
      "text/plain": [
       "Text(-0.3809826943878196, -1.7399680861802, '100')"
      ]
     },
     "execution_count": 42,
     "metadata": {},
     "output_type": "execute_result"
    },
    {
     "data": {
      "image/png": "[encoded data removed]",
      "text/plain": [
       "<Figure size 432x288 with 1 Axes>"
      ]
     },
     "metadata": {
      "needs_background": "light"
     },
     "output_type": "display_data"
    }
   ],
   "source": [
    "fig,ax = plt.subplots()\n",
    "ax.plot(x, func(x))\n",
    "for i, s in enumerate(steps):\n",
    "    ax.annotate(str(i+1), (s, func(s)))\n",
    "plt.show()"
   ]
  },
  {
   "cell_type": "code",
   "execution_count": null,
   "id": "grateful-rebate",
   "metadata": {},
   "outputs": [],
   "source": []
  }
 ],
 "metadata": {
  "kernelspec": {
   "display_name": "Python 3",
   "language": "python",
   "name": "python3"
  },
  "language_info": {
   "codemirror_mode": {
    "name": "ipython",
    "version": 3
   },
   "file_extension": ".py",
   "mimetype": "text/x-python",
   "name": "python",
   "nbconvert_exporter": "python",
   "pygments_lexer": "ipython3",
   "version": "3.7.6"
  }
 },
 "nbformat": 4,
 "nbformat_minor": 5
}
