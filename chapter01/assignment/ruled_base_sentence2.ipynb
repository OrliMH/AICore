{
 "cells": [
  {
   "cell_type": "code",
   "execution_count": 27,
   "id": "heated-bahamas",
   "metadata": {},
   "outputs": [],
   "source": [
    "from IPython.core.interactiveshell import InteractiveShell\n",
    "InteractiveShell.ast_node_interactivity = \"all\"\n"
   ]
  },
  {
   "cell_type": "code",
   "execution_count": 28,
   "id": "ordinary-consequence",
   "metadata": {},
   "outputs": [],
   "source": [
    "import random\n",
    "from icecream import ic"
   ]
  },
  {
   "cell_type": "code",
   "execution_count": 29,
   "id": "vocational-antibody",
   "metadata": {},
   "outputs": [],
   "source": [
    "rules=\"\"\"\n",
    "    句子         =  主语  及物动词   宾语 | 主语 不及物动词 \n",
    "    主语         =  你  |   我   |  他  |  李洙赫  |  何明卿  |  洛必达 |  Hinton老头 |  Lecun老头 \n",
    "    及物动词     =  吃  |   造    |   敲   |  刷   |  打    | 走   |  捞 |  研究  |  发明     |  戴 \n",
    "    宾语         =  饭  |   论文  |   代码 |  力扣 |  比赛  |  T台 |  钱 |  数学  |  胶囊网络 |  假发\n",
    "    不及物动词   =  睡觉 |  演戏  |   走路 |  摸鱼 |  闲逛  |  笑  |  沉思|  起床 |   秃头  | 划水    \n",
    "    复合句子     =  句子 ， 连词 句子 \n",
    "    连词         =  但是 |  所以 | 因此 | 并且 | 而 \n",
    "    含复合句子的句子   =  复合句子 ， 连词 复合句子 |复合句子 ， 连词 句子 |句子 ， 连词 复合句子\n",
    "\n",
    "\"\"\""
   ]
  },
  {
   "cell_type": "code",
   "execution_count": 30,
   "id": "binding-bride",
   "metadata": {},
   "outputs": [
    {
     "name": "stderr",
     "output_type": "stream",
     "text": [
      "ic| grammer: {'不及物动词': ['睡觉', '演戏', '走路', '摸鱼', '闲逛', '笑', '沉思', '起床', '秃头', '划水'],\n",
      "              '主语': ['你', '我', '他', '李洙赫', '何明卿', '洛必达', 'Hinton老头', 'Lecun老头'],\n",
      "              '及物动词': ['吃', '造', '敲', '刷', '打', '走', '捞', '研究', '发明', '戴'],\n",
      "              '句子': ['主语  及物动词   宾语', '主语 不及物动词'],\n",
      "              '含复合句子的句子': ['复合句子 ， 连词 复合句子', '复合句子 ， 连词 句子', '句子 ， 连词 复合句子'],\n",
      "              '复合句子': ['句子 ， 连词 句子'],\n",
      "              '宾语': ['饭', '论文', '代码', '力扣', '比赛', 'T台', '钱', '数学', '胶囊网络', '假发'],\n",
      "              '连词': ['但是', '所以', '因此', '并且', '而']}\n"
     ]
    },
    {
     "data": {
      "text/plain": [
       "{'句子': ['主语  及物动词   宾语', '主语 不及物动词'],\n",
       " '主语': ['你', '我', '他', '李洙赫', '何明卿', '洛必达', 'Hinton老头', 'Lecun老头'],\n",
       " '及物动词': ['吃', '造', '敲', '刷', '打', '走', '捞', '研究', '发明', '戴'],\n",
       " '宾语': ['饭', '论文', '代码', '力扣', '比赛', 'T台', '钱', '数学', '胶囊网络', '假发'],\n",
       " '不及物动词': ['睡觉', '演戏', '走路', '摸鱼', '闲逛', '笑', '沉思', '起床', '秃头', '划水'],\n",
       " '复合句子': ['句子 ， 连词 句子'],\n",
       " '连词': ['但是', '所以', '因此', '并且', '而'],\n",
       " '含复合句子的句子': ['复合句子 ， 连词 复合句子', '复合句子 ， 连词 句子', '句子 ， 连词 复合句子']}"
      ]
     },
     "execution_count": 30,
     "metadata": {},
     "output_type": "execute_result"
    }
   ],
   "source": [
    "grammer = {}\n",
    "for r in rules.split('\\n'):\n",
    "    if r.strip() == '':continue\n",
    "\n",
    "    target,expend = r.split('=')\n",
    "    grammer[target.strip()] = [e.strip() for e in expend.split('|')]\n",
    "\n",
    "    \n",
    "ic(grammer)"
   ]
  },
  {
   "cell_type": "code",
   "execution_count": 31,
   "id": "modern-organization",
   "metadata": {},
   "outputs": [],
   "source": [
    "import random\n",
    "def generate(grammer,target='句子'):\n",
    "    if target not in grammer: return target\n",
    "    return ''.join([generate(grammer,t) for t in random.choice(grammer[target]).split()])"
   ]
  },
  {
   "cell_type": "code",
   "execution_count": 32,
   "id": "forty-television",
   "metadata": {},
   "outputs": [
    {
     "name": "stderr",
     "output_type": "stream",
     "text": [
      "ic| t: '句子', generate(grammer,t): 'Hinton老头划水'\n"
     ]
    },
    {
     "data": {
      "text/plain": [
       "('句子', 'Hinton老头划水')"
      ]
     },
     "execution_count": 32,
     "metadata": {},
     "output_type": "execute_result"
    },
    {
     "name": "stderr",
     "output_type": "stream",
     "text": [
      "ic| t: '复合句子', generate(grammer,t): '你发明论文，而洛必达刷比赛'\n"
     ]
    },
    {
     "data": {
      "text/plain": [
       "('复合句子', '你发明论文，而洛必达刷比赛')"
      ]
     },
     "execution_count": 32,
     "metadata": {},
     "output_type": "execute_result"
    },
    {
     "name": "stderr",
     "output_type": "stream",
     "text": [
      "ic| t: '含复合句子的句子', generate(grammer,t): '李洙赫吃钱，但是我刷胶囊网络，并且何明卿捞饭'\n"
     ]
    },
    {
     "data": {
      "text/plain": [
       "('含复合句子的句子', '李洙赫吃钱，但是我刷胶囊网络，并且何明卿捞饭')"
      ]
     },
     "execution_count": 32,
     "metadata": {},
     "output_type": "execute_result"
    },
    {
     "name": "stderr",
     "output_type": "stream",
     "text": [
      "ic| t: '句子', generate(grammer,t): '我演戏'\n"
     ]
    },
    {
     "data": {
      "text/plain": [
       "('句子', '我演戏')"
      ]
     },
     "execution_count": 32,
     "metadata": {},
     "output_type": "execute_result"
    },
    {
     "name": "stderr",
     "output_type": "stream",
     "text": [
      "ic| t: '复合句子', generate(grammer,t): '他摸鱼，并且Lecun老头发明代码'\n"
     ]
    },
    {
     "data": {
      "text/plain": [
       "('复合句子', '他摸鱼，并且Lecun老头发明代码')"
      ]
     },
     "execution_count": 32,
     "metadata": {},
     "output_type": "execute_result"
    },
    {
     "name": "stderr",
     "output_type": "stream",
     "text": [
      "ic| t: '含复合句子的句子', generate(grammer,t): '你起床，并且洛必达闲逛，所以我敲胶囊网络'\n"
     ]
    },
    {
     "data": {
      "text/plain": [
       "('含复合句子的句子', '你起床，并且洛必达闲逛，所以我敲胶囊网络')"
      ]
     },
     "execution_count": 32,
     "metadata": {},
     "output_type": "execute_result"
    },
    {
     "name": "stderr",
     "output_type": "stream",
     "text": [
      "ic| t: '句子', generate(grammer,t): '他笑'\n"
     ]
    },
    {
     "data": {
      "text/plain": [
       "('句子', '他笑')"
      ]
     },
     "execution_count": 32,
     "metadata": {},
     "output_type": "execute_result"
    },
    {
     "name": "stderr",
     "output_type": "stream",
     "text": [
      "ic| t: '复合句子', generate(grammer,t): 'Lecun老头打代码，所以何明卿划水'\n"
     ]
    },
    {
     "data": {
      "text/plain": [
       "('复合句子', 'Lecun老头打代码，所以何明卿划水')"
      ]
     },
     "execution_count": 32,
     "metadata": {},
     "output_type": "execute_result"
    },
    {
     "name": "stderr",
     "output_type": "stream",
     "text": [
      "ic| t: '含复合句子的句子', generate(grammer,t): '你发明数学，所以我演戏，但是Lecun老头秃头'\n"
     ]
    },
    {
     "data": {
      "text/plain": [
       "('含复合句子的句子', '你发明数学，所以我演戏，但是Lecun老头秃头')"
      ]
     },
     "execution_count": 32,
     "metadata": {},
     "output_type": "execute_result"
    },
    {
     "name": "stderr",
     "output_type": "stream",
     "text": [
      "ic| t: '句子', generate(grammer,t): '洛必达打力扣'\n"
     ]
    },
    {
     "data": {
      "text/plain": [
       "('句子', '洛必达打力扣')"
      ]
     },
     "execution_count": 32,
     "metadata": {},
     "output_type": "execute_result"
    },
    {
     "name": "stderr",
     "output_type": "stream",
     "text": [
      "ic| t: '复合句子', generate(grammer,t): '他划水，而李洙赫打T台'\n"
     ]
    },
    {
     "data": {
      "text/plain": [
       "('复合句子', '他划水，而李洙赫打T台')"
      ]
     },
     "execution_count": 32,
     "metadata": {},
     "output_type": "execute_result"
    },
    {
     "name": "stderr",
     "output_type": "stream",
     "text": [
      "ic| t: '含复合句子的句子'\n",
      "    generate(grammer,t): 'Lecun老头造论文，因此Lecun老头秃头，并且何明卿研究假发'\n"
     ]
    },
    {
     "data": {
      "text/plain": [
       "('含复合句子的句子', 'Lecun老头造论文，因此Lecun老头秃头，并且何明卿研究假发')"
      ]
     },
     "execution_count": 32,
     "metadata": {},
     "output_type": "execute_result"
    },
    {
     "name": "stderr",
     "output_type": "stream",
     "text": [
      "ic| t: '句子', generate(grammer,t): '李洙赫发明论文'\n"
     ]
    },
    {
     "data": {
      "text/plain": [
       "('句子', '李洙赫发明论文')"
      ]
     },
     "execution_count": 32,
     "metadata": {},
     "output_type": "execute_result"
    },
    {
     "name": "stderr",
     "output_type": "stream",
     "text": [
      "ic| t: '复合句子', generate(grammer,t): '洛必达吃胶囊网络，因此我划水'\n"
     ]
    },
    {
     "data": {
      "text/plain": [
       "('复合句子', '洛必达吃胶囊网络，因此我划水')"
      ]
     },
     "execution_count": 32,
     "metadata": {},
     "output_type": "execute_result"
    },
    {
     "name": "stderr",
     "output_type": "stream",
     "text": [
      "ic| t: '含复合句子的句子'\n",
      "    generate(grammer,t): '何明卿造力扣，因此Hinton老头研究数学，所以你演戏，所以我闲逛'\n"
     ]
    },
    {
     "data": {
      "text/plain": [
       "('含复合句子的句子', '何明卿造力扣，因此Hinton老头研究数学，所以你演戏，所以我闲逛')"
      ]
     },
     "execution_count": 32,
     "metadata": {},
     "output_type": "execute_result"
    },
    {
     "name": "stderr",
     "output_type": "stream",
     "text": [
      "ic| t: '句子', generate(grammer,t): '他吃钱'\n"
     ]
    },
    {
     "data": {
      "text/plain": [
       "('句子', '他吃钱')"
      ]
     },
     "execution_count": 32,
     "metadata": {},
     "output_type": "execute_result"
    },
    {
     "name": "stderr",
     "output_type": "stream",
     "text": [
      "ic| t: '复合句子', generate(grammer,t): '何明卿造胶囊网络，并且洛必达起床'\n"
     ]
    },
    {
     "data": {
      "text/plain": [
       "('复合句子', '何明卿造胶囊网络，并且洛必达起床')"
      ]
     },
     "execution_count": 32,
     "metadata": {},
     "output_type": "execute_result"
    },
    {
     "name": "stderr",
     "output_type": "stream",
     "text": [
      "ic| t: '含复合句子的句子', generate(grammer,t): '他秃头，并且何明卿摸鱼，所以何明卿捞代码'\n"
     ]
    },
    {
     "data": {
      "text/plain": [
       "('含复合句子的句子', '他秃头，并且何明卿摸鱼，所以何明卿捞代码')"
      ]
     },
     "execution_count": 32,
     "metadata": {},
     "output_type": "execute_result"
    },
    {
     "name": "stderr",
     "output_type": "stream",
     "text": [
      "ic| t: '句子', generate(grammer,t): 'Hinton老头秃头'\n"
     ]
    },
    {
     "data": {
      "text/plain": [
       "('句子', 'Hinton老头秃头')"
      ]
     },
     "execution_count": 32,
     "metadata": {},
     "output_type": "execute_result"
    },
    {
     "name": "stderr",
     "output_type": "stream",
     "text": [
      "ic| t: '复合句子', generate(grammer,t): '何明卿起床，而他捞论文'\n"
     ]
    },
    {
     "data": {
      "text/plain": [
       "('复合句子', '何明卿起床，而他捞论文')"
      ]
     },
     "execution_count": 32,
     "metadata": {},
     "output_type": "execute_result"
    },
    {
     "name": "stderr",
     "output_type": "stream",
     "text": [
      "ic| t: '含复合句子的句子'\n",
      "    generate(grammer,t): '何明卿打胶囊网络，并且他造T台，所以你研究力扣，而Hinton老头秃头'\n"
     ]
    },
    {
     "data": {
      "text/plain": [
       "('含复合句子的句子', '何明卿打胶囊网络，并且他造T台，所以你研究力扣，而Hinton老头秃头')"
      ]
     },
     "execution_count": 32,
     "metadata": {},
     "output_type": "execute_result"
    },
    {
     "name": "stderr",
     "output_type": "stream",
     "text": [
      "ic| t: '句子', generate(grammer,t): '何明卿划水'\n"
     ]
    },
    {
     "data": {
      "text/plain": [
       "('句子', '何明卿划水')"
      ]
     },
     "execution_count": 32,
     "metadata": {},
     "output_type": "execute_result"
    },
    {
     "name": "stderr",
     "output_type": "stream",
     "text": [
      "ic| t: '复合句子', generate(grammer,t): '洛必达刷力扣，而你睡觉'\n"
     ]
    },
    {
     "data": {
      "text/plain": [
       "('复合句子', '洛必达刷力扣，而你睡觉')"
      ]
     },
     "execution_count": 32,
     "metadata": {},
     "output_type": "execute_result"
    },
    {
     "name": "stderr",
     "output_type": "stream",
     "text": [
      "ic| t: '含复合句子的句子', generate(grammer,t): '洛必达发明代码，而你敲T台，并且李洙赫摸鱼'\n"
     ]
    },
    {
     "data": {
      "text/plain": [
       "('含复合句子的句子', '洛必达发明代码，而你敲T台，并且李洙赫摸鱼')"
      ]
     },
     "execution_count": 32,
     "metadata": {},
     "output_type": "execute_result"
    },
    {
     "name": "stderr",
     "output_type": "stream",
     "text": [
      "ic| t: '句子', generate(grammer,t): '我吃饭'\n"
     ]
    },
    {
     "data": {
      "text/plain": [
       "('句子', '我吃饭')"
      ]
     },
     "execution_count": 32,
     "metadata": {},
     "output_type": "execute_result"
    },
    {
     "name": "stderr",
     "output_type": "stream",
     "text": [
      "ic| t: '复合句子', generate(grammer,t): '你走代码，所以他敲饭'\n"
     ]
    },
    {
     "data": {
      "text/plain": [
       "('复合句子', '你走代码，所以他敲饭')"
      ]
     },
     "execution_count": 32,
     "metadata": {},
     "output_type": "execute_result"
    },
    {
     "name": "stderr",
     "output_type": "stream",
     "text": [
      "ic| t: '含复合句子的句子', generate(grammer,t): '你敲饭，因此洛必达吃饭，因此李洙赫演戏'\n"
     ]
    },
    {
     "data": {
      "text/plain": [
       "('含复合句子的句子', '你敲饭，因此洛必达吃饭，因此李洙赫演戏')"
      ]
     },
     "execution_count": 32,
     "metadata": {},
     "output_type": "execute_result"
    },
    {
     "name": "stderr",
     "output_type": "stream",
     "text": [
      "ic| t: '句子', generate(grammer,t): '你演戏'\n"
     ]
    },
    {
     "data": {
      "text/plain": [
       "('句子', '你演戏')"
      ]
     },
     "execution_count": 32,
     "metadata": {},
     "output_type": "execute_result"
    },
    {
     "name": "stderr",
     "output_type": "stream",
     "text": [
      "ic| t: '复合句子', generate(grammer,t): '李洙赫睡觉，并且你笑'\n"
     ]
    },
    {
     "data": {
      "text/plain": [
       "('复合句子', '李洙赫睡觉，并且你笑')"
      ]
     },
     "execution_count": 32,
     "metadata": {},
     "output_type": "execute_result"
    },
    {
     "name": "stderr",
     "output_type": "stream",
     "text": [
      "ic| t: '含复合句子的句子', generate(grammer,t): '何明卿沉思，所以他敲钱，但是他演戏'\n"
     ]
    },
    {
     "data": {
      "text/plain": [
       "('含复合句子的句子', '何明卿沉思，所以他敲钱，但是他演戏')"
      ]
     },
     "execution_count": 32,
     "metadata": {},
     "output_type": "execute_result"
    },
    {
     "name": "stderr",
     "output_type": "stream",
     "text": [
      "ic| t: '句子', generate(grammer,t): '洛必达走路'\n"
     ]
    },
    {
     "data": {
      "text/plain": [
       "('句子', '洛必达走路')"
      ]
     },
     "execution_count": 32,
     "metadata": {},
     "output_type": "execute_result"
    },
    {
     "name": "stderr",
     "output_type": "stream",
     "text": [
      "ic| t: '复合句子', generate(grammer,t): 'Lecun老头走路，并且洛必达秃头'\n"
     ]
    },
    {
     "data": {
      "text/plain": [
       "('复合句子', 'Lecun老头走路，并且洛必达秃头')"
      ]
     },
     "execution_count": 32,
     "metadata": {},
     "output_type": "execute_result"
    },
    {
     "name": "stderr",
     "output_type": "stream",
     "text": [
      "ic| t: '含复合句子的句子', generate(grammer,t): '何明卿戴力扣，而你戴代码，但是你走路，所以何明卿造数学'\n"
     ]
    },
    {
     "data": {
      "text/plain": [
       "('含复合句子的句子', '何明卿戴力扣，而你戴代码，但是你走路，所以何明卿造数学')"
      ]
     },
     "execution_count": 32,
     "metadata": {},
     "output_type": "execute_result"
    },
    {
     "name": "stderr",
     "output_type": "stream",
     "text": [
      "ic| t: '句子', generate(grammer,t): '我摸鱼'\n"
     ]
    },
    {
     "data": {
      "text/plain": [
       "('句子', '我摸鱼')"
      ]
     },
     "execution_count": 32,
     "metadata": {},
     "output_type": "execute_result"
    },
    {
     "name": "stderr",
     "output_type": "stream",
     "text": [
      "ic| t: '复合句子', generate(grammer,t): '李洙赫敲代码，但是我笑'\n"
     ]
    },
    {
     "data": {
      "text/plain": [
       "('复合句子', '李洙赫敲代码，但是我笑')"
      ]
     },
     "execution_count": 32,
     "metadata": {},
     "output_type": "execute_result"
    },
    {
     "name": "stderr",
     "output_type": "stream",
     "text": [
      "ic| t: '含复合句子的句子'\n",
      "    generate(grammer,t): '李洙赫打饭，而Lecun老头吃胶囊网络，但是Lecun老头闲逛'\n"
     ]
    },
    {
     "data": {
      "text/plain": [
       "('含复合句子的句子', '李洙赫打饭，而Lecun老头吃胶囊网络，但是Lecun老头闲逛')"
      ]
     },
     "execution_count": 32,
     "metadata": {},
     "output_type": "execute_result"
    },
    {
     "name": "stderr",
     "output_type": "stream",
     "text": [
      "ic| t: '句子', generate(grammer,t): '洛必达吃饭'\n"
     ]
    },
    {
     "data": {
      "text/plain": [
       "('句子', '洛必达吃饭')"
      ]
     },
     "execution_count": 32,
     "metadata": {},
     "output_type": "execute_result"
    },
    {
     "name": "stderr",
     "output_type": "stream",
     "text": [
      "ic| t: '复合句子', generate(grammer,t): 'Lecun老头划水，因此洛必达造假发'\n"
     ]
    },
    {
     "data": {
      "text/plain": [
       "('复合句子', 'Lecun老头划水，因此洛必达造假发')"
      ]
     },
     "execution_count": 32,
     "metadata": {},
     "output_type": "execute_result"
    },
    {
     "name": "stderr",
     "output_type": "stream",
     "text": [
      "ic| t: '含复合句子的句子'\n",
      "    generate(grammer,t): 'Hinton老头走钱，因此他起床，而我造胶囊网络，而你捞假发'\n"
     ]
    },
    {
     "data": {
      "text/plain": [
       "('含复合句子的句子', 'Hinton老头走钱，因此他起床，而我造胶囊网络，而你捞假发')"
      ]
     },
     "execution_count": 32,
     "metadata": {},
     "output_type": "execute_result"
    },
    {
     "name": "stderr",
     "output_type": "stream",
     "text": [
      "ic| t: '句子', generate(grammer,t): '你走饭'\n"
     ]
    },
    {
     "data": {
      "text/plain": [
       "('句子', '你走饭')"
      ]
     },
     "execution_count": 32,
     "metadata": {},
     "output_type": "execute_result"
    },
    {
     "name": "stderr",
     "output_type": "stream",
     "text": [
      "ic| t: '复合句子', generate(grammer,t): '我闲逛，所以你捞论文'\n"
     ]
    },
    {
     "data": {
      "text/plain": [
       "('复合句子', '我闲逛，所以你捞论文')"
      ]
     },
     "execution_count": 32,
     "metadata": {},
     "output_type": "execute_result"
    },
    {
     "name": "stderr",
     "output_type": "stream",
     "text": [
      "ic| t: '含复合句子的句子'\n",
      "    generate(grammer,t): '你发明饭，而你演戏，所以我造论文，并且Lecun老头造论文'\n"
     ]
    },
    {
     "data": {
      "text/plain": [
       "('含复合句子的句子', '你发明饭，而你演戏，所以我造论文，并且Lecun老头造论文')"
      ]
     },
     "execution_count": 32,
     "metadata": {},
     "output_type": "execute_result"
    },
    {
     "name": "stderr",
     "output_type": "stream",
     "text": [
      "ic| t: '句子', generate(grammer,t): '你敲假发'\n"
     ]
    },
    {
     "data": {
      "text/plain": [
       "('句子', '你敲假发')"
      ]
     },
     "execution_count": 32,
     "metadata": {},
     "output_type": "execute_result"
    },
    {
     "name": "stderr",
     "output_type": "stream",
     "text": [
      "ic| t: '复合句子', generate(grammer,t): '我起床，因此我笑'\n"
     ]
    },
    {
     "data": {
      "text/plain": [
       "('复合句子', '我起床，因此我笑')"
      ]
     },
     "execution_count": 32,
     "metadata": {},
     "output_type": "execute_result"
    },
    {
     "name": "stderr",
     "output_type": "stream",
     "text": [
      "ic| t: '含复合句子的句子'\n",
      "    generate(grammer,t): '何明卿打力扣，并且我戴假发，而我摸鱼，而Lecun老头走胶囊网络'\n"
     ]
    },
    {
     "data": {
      "text/plain": [
       "('含复合句子的句子', '何明卿打力扣，并且我戴假发，而我摸鱼，而Lecun老头走胶囊网络')"
      ]
     },
     "execution_count": 32,
     "metadata": {},
     "output_type": "execute_result"
    },
    {
     "name": "stderr",
     "output_type": "stream",
     "text": [
      "ic| t: '句子', generate(grammer,t): 'Lecun老头秃头'\n"
     ]
    },
    {
     "data": {
      "text/plain": [
       "('句子', 'Lecun老头秃头')"
      ]
     },
     "execution_count": 32,
     "metadata": {},
     "output_type": "execute_result"
    },
    {
     "name": "stderr",
     "output_type": "stream",
     "text": [
      "ic| t: '复合句子', generate(grammer,t): '你走饭，并且他划水'\n"
     ]
    },
    {
     "data": {
      "text/plain": [
       "('复合句子', '你走饭，并且他划水')"
      ]
     },
     "execution_count": 32,
     "metadata": {},
     "output_type": "execute_result"
    },
    {
     "name": "stderr",
     "output_type": "stream",
     "text": [
      "ic| t: '含复合句子的句子', generate(grammer,t): '他打钱，所以何明卿发明胶囊网络，所以何明卿划水'\n"
     ]
    },
    {
     "data": {
      "text/plain": [
       "('含复合句子的句子', '他打钱，所以何明卿发明胶囊网络，所以何明卿划水')"
      ]
     },
     "execution_count": 32,
     "metadata": {},
     "output_type": "execute_result"
    },
    {
     "name": "stderr",
     "output_type": "stream",
     "text": [
      "ic| t: '句子', generate(grammer,t): 'Hinton老头笑'\n"
     ]
    },
    {
     "data": {
      "text/plain": [
       "('句子', 'Hinton老头笑')"
      ]
     },
     "execution_count": 32,
     "metadata": {},
     "output_type": "execute_result"
    },
    {
     "name": "stderr",
     "output_type": "stream",
     "text": [
      "ic| t: '复合句子', generate(grammer,t): 'Hinton老头沉思，并且李洙赫划水'\n"
     ]
    },
    {
     "data": {
      "text/plain": [
       "('复合句子', 'Hinton老头沉思，并且李洙赫划水')"
      ]
     },
     "execution_count": 32,
     "metadata": {},
     "output_type": "execute_result"
    },
    {
     "name": "stderr",
     "output_type": "stream",
     "text": [
      "ic| t: '含复合句子的句子', generate(grammer,t): '何明卿发明数学，并且你吃代码，而洛必达睡觉'\n"
     ]
    },
    {
     "data": {
      "text/plain": [
       "('含复合句子的句子', '何明卿发明数学，并且你吃代码，而洛必达睡觉')"
      ]
     },
     "execution_count": 32,
     "metadata": {},
     "output_type": "execute_result"
    },
    {
     "name": "stderr",
     "output_type": "stream",
     "text": [
      "ic| t: '句子', generate(grammer,t): '我笑'\n"
     ]
    },
    {
     "data": {
      "text/plain": [
       "('句子', '我笑')"
      ]
     },
     "execution_count": 32,
     "metadata": {},
     "output_type": "execute_result"
    },
    {
     "name": "stderr",
     "output_type": "stream",
     "text": [
      "ic| t: '复合句子', generate(grammer,t): '何明卿演戏，而我打胶囊网络'\n"
     ]
    },
    {
     "data": {
      "text/plain": [
       "('复合句子', '何明卿演戏，而我打胶囊网络')"
      ]
     },
     "execution_count": 32,
     "metadata": {},
     "output_type": "execute_result"
    },
    {
     "name": "stderr",
     "output_type": "stream",
     "text": [
      "ic| t: '含复合句子的句子', generate(grammer,t): '我走路，所以他捞力扣，而Hinton老头打饭'\n"
     ]
    },
    {
     "data": {
      "text/plain": [
       "('含复合句子的句子', '我走路，所以他捞力扣，而Hinton老头打饭')"
      ]
     },
     "execution_count": 32,
     "metadata": {},
     "output_type": "execute_result"
    },
    {
     "name": "stderr",
     "output_type": "stream",
     "text": [
      "ic| t: '句子', generate(grammer,t): '你捞假发'\n"
     ]
    },
    {
     "data": {
      "text/plain": [
       "('句子', '你捞假发')"
      ]
     },
     "execution_count": 32,
     "metadata": {},
     "output_type": "execute_result"
    },
    {
     "name": "stderr",
     "output_type": "stream",
     "text": [
      "ic| t: '复合句子', generate(grammer,t): '他吃T台，并且何明卿起床'\n"
     ]
    },
    {
     "data": {
      "text/plain": [
       "('复合句子', '他吃T台，并且何明卿起床')"
      ]
     },
     "execution_count": 32,
     "metadata": {},
     "output_type": "execute_result"
    },
    {
     "name": "stderr",
     "output_type": "stream",
     "text": [
      "ic| t: '含复合句子的句子', generate(grammer,t): '李洙赫敲胶囊网络，而你起床，所以李洙赫打T台'\n"
     ]
    },
    {
     "data": {
      "text/plain": [
       "('含复合句子的句子', '李洙赫敲胶囊网络，而你起床，所以李洙赫打T台')"
      ]
     },
     "execution_count": 32,
     "metadata": {},
     "output_type": "execute_result"
    },
    {
     "name": "stderr",
     "output_type": "stream",
     "text": [
      "ic| t: '句子', generate(grammer,t): 'Hinton老头捞假发'\n"
     ]
    },
    {
     "data": {
      "text/plain": [
       "('句子', 'Hinton老头捞假发')"
      ]
     },
     "execution_count": 32,
     "metadata": {},
     "output_type": "execute_result"
    },
    {
     "name": "stderr",
     "output_type": "stream",
     "text": [
      "ic| t: '复合句子', generate(grammer,t): '洛必达走假发，并且何明卿捞数学'\n"
     ]
    },
    {
     "data": {
      "text/plain": [
       "('复合句子', '洛必达走假发，并且何明卿捞数学')"
      ]
     },
     "execution_count": 32,
     "metadata": {},
     "output_type": "execute_result"
    },
    {
     "name": "stderr",
     "output_type": "stream",
     "text": [
      "ic| t: '含复合句子的句子'\n",
      "    generate(grammer,t): '我敲钱，所以Lecun老头研究论文，因此Lecun老头走路'\n"
     ]
    },
    {
     "data": {
      "text/plain": [
       "('含复合句子的句子', '我敲钱，所以Lecun老头研究论文，因此Lecun老头走路')"
      ]
     },
     "execution_count": 32,
     "metadata": {},
     "output_type": "execute_result"
    }
   ],
   "source": [
    "sentences_type = ['句子','复合句子','含复合句子的句子']\n",
    "\n",
    "\n",
    "for i in range(20):\n",
    "    for t in sentences_type:\n",
    "        ic(t,generate(grammer,t))"
   ]
  },
  {
   "cell_type": "code",
   "execution_count": null,
   "id": "aerial-victor",
   "metadata": {},
   "outputs": [],
   "source": []
  }
 ],
 "metadata": {
  "kernelspec": {
   "display_name": "Python 3",
   "language": "python",
   "name": "python3"
  },
  "language_info": {
   "codemirror_mode": {
    "name": "ipython",
    "version": 3
   },
   "file_extension": ".py",
   "mimetype": "text/x-python",
   "name": "python",
   "nbconvert_exporter": "python",
   "pygments_lexer": "ipython3",
   "version": "3.7.6"
  }
 },
 "nbformat": 4,
 "nbformat_minor": 5
}
