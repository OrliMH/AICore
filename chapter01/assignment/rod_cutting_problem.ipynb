{
 "cells": [
  {
   "cell_type": "code",
   "execution_count": 86,
   "id": "suited-sender",
   "metadata": {},
   "outputs": [
    {
     "data": {
      "text/plain": [
       "'\\ngiven rod of len n and the price of rod of len i, \\ni from 1 to n, calculate the maximum price after\\ncutting or without cutting the rod\\n\\ndp:\\nn=0:cutRod(n)=0\\nn!=0:cutRod(n)=max(p(i)+cutRod(n-i)),i from 1 to n\\n\\n\\n'"
      ]
     },
     "execution_count": 86,
     "metadata": {},
     "output_type": "execute_result"
    }
   ],
   "source": [
    "#rod cutting problem\n",
    "'''\n",
    "given rod of len n and the price of rod of len i, \n",
    "i from 1 to n, calculate the maximum price after\n",
    "cutting or without cutting the rod\n",
    "\n",
    "dp:\n",
    "n=0:cutRod(n)=0\n",
    "n!=0:cutRod(n)=max(p(i)+cutRod(n-i)),i from 1 to n\n",
    "\n",
    "\n",
    "'''"
   ]
  },
  {
   "cell_type": "code",
   "execution_count": 82,
   "id": "precious-reverse",
   "metadata": {},
   "outputs": [],
   "source": [
    "\n",
    "import numpy as np\n",
    "def userinput():\n",
    "    \n",
    "    n=int(input('input len of rob: '))\n",
    "    \n",
    "    p=np.zeros(n+1)\n",
    "    \n",
    "    for i in range(n):        \n",
    "        p[i+1]=int(input(f'input the price of len {i+1}: '))\n",
    "   \n",
    "        \n",
    "    return n,p\n",
    "\n",
    "\n",
    "             "
   ]
  },
  {
   "cell_type": "code",
   "execution_count": 83,
   "id": "indoor-laundry",
   "metadata": {},
   "outputs": [],
   "source": [
    "def cutRod(x,p):\n",
    "  \n",
    "    if x==0:\n",
    "        return 0\n",
    "    \n",
    "    m=0\n",
    "    for i in range(1,x+1):\n",
    "        m=max(m,p[i]+cutRod(x-i,p))\n",
    "    return m\n",
    "        "
   ]
  },
  {
   "cell_type": "code",
   "execution_count": 84,
   "id": "abstract-providence",
   "metadata": {},
   "outputs": [
    {
     "name": "stdout",
     "output_type": "stream",
     "text": [
      "input len of rob: 4\n",
      "input the price of len 1: 1\n",
      "input the price of len 2: 5\n",
      "input the price of len 3: 8\n",
      "input the price of len 4: 9\n",
      "10.0\n"
     ]
    }
   ],
   "source": [
    "if __name__ == \"__main__\":\n",
    "    n,p = userinput()    \n",
    "    print(cutRod(n,p))\n",
    "    "
   ]
  }
 ],
 "metadata": {
  "kernelspec": {
   "display_name": "Python 3",
   "language": "python",
   "name": "python3"
  },
  "language_info": {
   "codemirror_mode": {
    "name": "ipython",
    "version": 3
   },
   "file_extension": ".py",
   "mimetype": "text/x-python",
   "name": "python",
   "nbconvert_exporter": "python",
   "pygments_lexer": "ipython3",
   "version": "3.7.6"
  }
 },
 "nbformat": 4,
 "nbformat_minor": 5
}
